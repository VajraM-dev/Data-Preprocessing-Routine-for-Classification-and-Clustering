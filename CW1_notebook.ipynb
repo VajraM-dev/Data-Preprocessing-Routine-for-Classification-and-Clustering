{
  "nbformat": 4,
  "nbformat_minor": 0,
  "metadata": {
    "colab": {
      "name": "datapp.ipynb",
      "provenance": [],
      "collapsed_sections": [
        "deS04IZbG6jt",
        "ngeF70Pgorlq",
        "GmswcS1ZoyWv"
      ]
    },
    "kernelspec": {
      "name": "python3",
      "display_name": "Python 3"
    },
    "language_info": {
      "name": "python"
    }
  },
  "cells": [
    {
      "cell_type": "markdown",
      "metadata": {
        "id": "J0TcTEW0GsPl"
      },
      "source": [
        "# Importing Libraries\n",
        "### Libraries contain certain functions which can be used to perform a specific task"
      ]
    },
    {
      "cell_type": "code",
      "metadata": {
        "id": "bAuE6P-HDlF6"
      },
      "source": [
        "import numpy as np    #importing numpy for handling with arrays\n",
        "import pandas as pd   #importing pandas for handling with dataframes\n",
        "from sklearn.model_selection import train_test_split  #importing train \n",
        "                                            #test split for splitting the data\n",
        "import seaborn as sns  #importing seaborn for plotting\n",
        "from scipy import stats #importing stats for calculating z score.\n",
        "from scipy.stats import chi2 #importing chi2 for Chi-Sqaure Distribution "
      ],
      "execution_count": 30,
      "outputs": []
    },
    {
      "cell_type": "markdown",
      "metadata": {
        "id": "0XxDjfJTGyGr"
      },
      "source": [
        "# Setting column names and reading the data"
      ]
    },
    {
      "cell_type": "code",
      "metadata": {
        "id": "siHbGUWaENX2"
      },
      "source": [
        "# we create a variable colnames which contains all the names of the individual columns.\n",
        "colnames = [\"Temperature (Min) oC.\", \"Temperature (Max) oC.\", \n",
        "            \"Temperature (Mean) oC.\", \"Relative Humidity (Min) %.\", \n",
        "            \"Relative Humidity (Max) %.\", \"Relative Humidity (Mean) %.\", \n",
        "            \"Sea Level Pressure (Min) hP a.\", \"Sea Level Pressure (Max) hP a.\", \n",
        "            \"Sea Level Pressure (Mean) hP a.\", \"Precipitation Total mm.\", \n",
        "            \"Snowfall Amount cm.\", \"Sunshine Duration min.\", \n",
        "            \"Wind Gust (Min) Km/h.\", \"Wind Gust (Max) Km/h.\", \n",
        "            \"Wind Gust (Mean) Km/h.\", \"Wind Speed (Min) Km/h.\", \n",
        "            \"Wind Speed (Max) Km/h.\", \"Wind Speed (Mean) Km/h\"]"
      ],
      "execution_count": 31,
      "outputs": []
    },
    {
      "cell_type": "code",
      "metadata": {
        "id": "w920KeeYD5Hd"
      },
      "source": [
        "# by using read_csv we create a dataframe by specifing the data and \n",
        "#the names for each column in data set\n",
        "df = pd.read_csv(\"/content/drive/MyDrive/ClimateDataBasel.csv\", names=colnames)"
      ],
      "execution_count": 32,
      "outputs": []
    },
    {
      "cell_type": "code",
      "metadata": {
        "colab": {
          "base_uri": "https://localhost:8080/",
          "height": 292
        },
        "id": "weCQVQJgEJYs",
        "outputId": "64a7e19a-7d06-4720-f8cd-7bb006919369"
      },
      "source": [
        "# we now see how the data look and the weather the \n",
        "#dataframe was created properly.\n",
        "df.head()"
      ],
      "execution_count": 33,
      "outputs": [
        {
          "output_type": "execute_result",
          "data": {
            "text/html": [
              "<div>\n",
              "<style scoped>\n",
              "    .dataframe tbody tr th:only-of-type {\n",
              "        vertical-align: middle;\n",
              "    }\n",
              "\n",
              "    .dataframe tbody tr th {\n",
              "        vertical-align: top;\n",
              "    }\n",
              "\n",
              "    .dataframe thead th {\n",
              "        text-align: right;\n",
              "    }\n",
              "</style>\n",
              "<table border=\"1\" class=\"dataframe\">\n",
              "  <thead>\n",
              "    <tr style=\"text-align: right;\">\n",
              "      <th></th>\n",
              "      <th>Temperature (Min) oC.</th>\n",
              "      <th>Temperature (Max) oC.</th>\n",
              "      <th>Temperature (Mean) oC.</th>\n",
              "      <th>Relative Humidity (Min) %.</th>\n",
              "      <th>Relative Humidity (Max) %.</th>\n",
              "      <th>Relative Humidity (Mean) %.</th>\n",
              "      <th>Sea Level Pressure (Min) hP a.</th>\n",
              "      <th>Sea Level Pressure (Max) hP a.</th>\n",
              "      <th>Sea Level Pressure (Mean) hP a.</th>\n",
              "      <th>Precipitation Total mm.</th>\n",
              "      <th>Snowfall Amount cm.</th>\n",
              "      <th>Sunshine Duration min.</th>\n",
              "      <th>Wind Gust (Min) Km/h.</th>\n",
              "      <th>Wind Gust (Max) Km/h.</th>\n",
              "      <th>Wind Gust (Mean) Km/h.</th>\n",
              "      <th>Wind Speed (Min) Km/h.</th>\n",
              "      <th>Wind Speed (Max) Km/h.</th>\n",
              "      <th>Wind Speed (Mean) Km/h</th>\n",
              "    </tr>\n",
              "  </thead>\n",
              "  <tbody>\n",
              "    <tr>\n",
              "      <th>0</th>\n",
              "      <td>8.100529</td>\n",
              "      <td>17.570530</td>\n",
              "      <td>13.445111</td>\n",
              "      <td>61</td>\n",
              "      <td>96</td>\n",
              "      <td>77.875000</td>\n",
              "      <td>1013.1</td>\n",
              "      <td>1018.4</td>\n",
              "      <td>1015.75830</td>\n",
              "      <td>0.2</td>\n",
              "      <td>0.0</td>\n",
              "      <td>350.56274</td>\n",
              "      <td>3.240000</td>\n",
              "      <td>23.400000</td>\n",
              "      <td>12.210002</td>\n",
              "      <td>1.787066</td>\n",
              "      <td>10.403253</td>\n",
              "      <td>6.639939</td>\n",
              "    </tr>\n",
              "    <tr>\n",
              "      <th>1</th>\n",
              "      <td>11.110529</td>\n",
              "      <td>18.490528</td>\n",
              "      <td>14.988861</td>\n",
              "      <td>59</td>\n",
              "      <td>94</td>\n",
              "      <td>76.458336</td>\n",
              "      <td>1013.9</td>\n",
              "      <td>1016.6</td>\n",
              "      <td>1014.99170</td>\n",
              "      <td>1.9</td>\n",
              "      <td>0.0</td>\n",
              "      <td>287.23404</td>\n",
              "      <td>6.479999</td>\n",
              "      <td>25.199999</td>\n",
              "      <td>14.880001</td>\n",
              "      <td>4.161301</td>\n",
              "      <td>16.285300</td>\n",
              "      <td>8.616541</td>\n",
              "    </tr>\n",
              "    <tr>\n",
              "      <th>2</th>\n",
              "      <td>10.320529</td>\n",
              "      <td>18.170528</td>\n",
              "      <td>14.267612</td>\n",
              "      <td>71</td>\n",
              "      <td>96</td>\n",
              "      <td>83.583336</td>\n",
              "      <td>1015.3</td>\n",
              "      <td>1017.5</td>\n",
              "      <td>1016.38745</td>\n",
              "      <td>0.1</td>\n",
              "      <td>0.0</td>\n",
              "      <td>126.26506</td>\n",
              "      <td>3.240000</td>\n",
              "      <td>24.119999</td>\n",
              "      <td>12.764999</td>\n",
              "      <td>2.028842</td>\n",
              "      <td>11.289829</td>\n",
              "      <td>6.372418</td>\n",
              "    </tr>\n",
              "    <tr>\n",
              "      <th>3</th>\n",
              "      <td>10.450529</td>\n",
              "      <td>24.980530</td>\n",
              "      <td>17.309278</td>\n",
              "      <td>54</td>\n",
              "      <td>92</td>\n",
              "      <td>77.625000</td>\n",
              "      <td>1015.9</td>\n",
              "      <td>1018.7</td>\n",
              "      <td>1017.26250</td>\n",
              "      <td>0.0</td>\n",
              "      <td>0.0</td>\n",
              "      <td>881.24710</td>\n",
              "      <td>2.160000</td>\n",
              "      <td>20.160000</td>\n",
              "      <td>9.480000</td>\n",
              "      <td>0.799200</td>\n",
              "      <td>11.483046</td>\n",
              "      <td>4.690738</td>\n",
              "    </tr>\n",
              "    <tr>\n",
              "      <th>4</th>\n",
              "      <td>12.350529</td>\n",
              "      <td>25.610529</td>\n",
              "      <td>19.881780</td>\n",
              "      <td>47</td>\n",
              "      <td>88</td>\n",
              "      <td>66.583336</td>\n",
              "      <td>1015.7</td>\n",
              "      <td>1020.7</td>\n",
              "      <td>1018.18353</td>\n",
              "      <td>0.0</td>\n",
              "      <td>0.0</td>\n",
              "      <td>951.56665</td>\n",
              "      <td>0.720000</td>\n",
              "      <td>15.840000</td>\n",
              "      <td>5.565001</td>\n",
              "      <td>0.376747</td>\n",
              "      <td>6.443357</td>\n",
              "      <td>3.311275</td>\n",
              "    </tr>\n",
              "  </tbody>\n",
              "</table>\n",
              "</div>"
            ],
            "text/plain": [
              "   Temperature (Min) oC.  ...  Wind Speed (Mean) Km/h\n",
              "0               8.100529  ...                6.639939\n",
              "1              11.110529  ...                8.616541\n",
              "2              10.320529  ...                6.372418\n",
              "3              10.450529  ...                4.690738\n",
              "4              12.350529  ...                3.311275\n",
              "\n",
              "[5 rows x 18 columns]"
            ]
          },
          "metadata": {},
          "execution_count": 33
        }
      ]
    },
    {
      "cell_type": "markdown",
      "metadata": {
        "id": "deS04IZbG6jt"
      },
      "source": [
        "# Check if there are any null or missing values in the data"
      ]
    },
    {
      "cell_type": "code",
      "metadata": {
        "colab": {
          "base_uri": "https://localhost:8080/",
          "height": 0
        },
        "id": "Eq4nrTB-Vdtl",
        "outputId": "0aed30cd-76e5-4719-c4d6-1556d881c5d7"
      },
      "source": [
        "# this if else condition is used to check if there are any \n",
        "#missing values in the data. \n",
        "#df is the dataframe, isnull().values.any() is used to find if \n",
        "#there are any null values in dataset. df.isnull().values.any() \n",
        "#returns a True or False result.\n",
        "\n",
        "if (df.isnull().values.any() == True):    \n",
        "  print(\"There are missing/null values\")\n",
        "else:\n",
        "  print(\"There are no missing/null values\")"
      ],
      "execution_count": 34,
      "outputs": [
        {
          "output_type": "stream",
          "name": "stdout",
          "text": [
            "There are no missing/null values\n"
          ]
        }
      ]
    },
    {
      "cell_type": "code",
      "metadata": {
        "colab": {
          "base_uri": "https://localhost:8080/",
          "height": 0
        },
        "id": "EUWf3FImELse",
        "outputId": "9a886830-1023-40e5-c0d5-5a56161ed644"
      },
      "source": [
        "# this line was just added to prove that there are no missing values.\n",
        "print(\"Check if there are any missing values: \", df.isnull().values.any())"
      ],
      "execution_count": 35,
      "outputs": [
        {
          "output_type": "stream",
          "name": "stdout",
          "text": [
            "Check if there are any missing values:  False\n"
          ]
        }
      ]
    },
    {
      "cell_type": "code",
      "metadata": {
        "colab": {
          "base_uri": "https://localhost:8080/",
          "height": 0
        },
        "id": "Ejghy6jbFmzL",
        "outputId": "38d9e523-5a56-4ea2-b1ae-702e38352e64"
      },
      "source": [
        "# We use this command to see the number of missing/null values in each \n",
        "#column of the data set.\n",
        "print(\"Checking the number of missing values in each column:\\n\", \n",
        "      df.isnull().sum())"
      ],
      "execution_count": 36,
      "outputs": [
        {
          "output_type": "stream",
          "name": "stdout",
          "text": [
            "Checking the number of missing values in each column:\n",
            " Temperature (Min) oC.              0\n",
            "Temperature (Max) oC.              0\n",
            "Temperature (Mean) oC.             0\n",
            "Relative Humidity (Min) %.         0\n",
            "Relative Humidity (Max) %.         0\n",
            "Relative Humidity (Mean) %.        0\n",
            "Sea Level Pressure (Min) hP a.     0\n",
            "Sea Level Pressure (Max) hP a.     0\n",
            "Sea Level Pressure (Mean) hP a.    0\n",
            "Precipitation Total mm.            0\n",
            "Snowfall Amount cm.                0\n",
            "Sunshine Duration min.             0\n",
            "Wind Gust (Min) Km/h.              0\n",
            "Wind Gust (Max) Km/h.              0\n",
            "Wind Gust (Mean) Km/h.             0\n",
            "Wind Speed (Min) Km/h.             0\n",
            "Wind Speed (Max) Km/h.             0\n",
            "Wind Speed (Mean) Km/h             0\n",
            "dtype: int64\n"
          ]
        }
      ]
    },
    {
      "cell_type": "code",
      "metadata": {
        "colab": {
          "base_uri": "https://localhost:8080/",
          "height": 385
        },
        "id": "VbX0oDGLHSeH",
        "outputId": "b46016be-7578-4c43-915d-7a345d97dc05"
      },
      "source": [
        "# we use describe() to display some basic summary of the dataframe, we can \n",
        "#see that the count of all the columns is same which indicate \n",
        "#there are indeed no missing values.\n",
        "print(\"A summary of the given data\")\n",
        "df.describe()"
      ],
      "execution_count": 37,
      "outputs": [
        {
          "output_type": "stream",
          "name": "stdout",
          "text": [
            "A summary of the given data\n"
          ]
        },
        {
          "output_type": "execute_result",
          "data": {
            "text/html": [
              "<div>\n",
              "<style scoped>\n",
              "    .dataframe tbody tr th:only-of-type {\n",
              "        vertical-align: middle;\n",
              "    }\n",
              "\n",
              "    .dataframe tbody tr th {\n",
              "        vertical-align: top;\n",
              "    }\n",
              "\n",
              "    .dataframe thead th {\n",
              "        text-align: right;\n",
              "    }\n",
              "</style>\n",
              "<table border=\"1\" class=\"dataframe\">\n",
              "  <thead>\n",
              "    <tr style=\"text-align: right;\">\n",
              "      <th></th>\n",
              "      <th>Temperature (Min) oC.</th>\n",
              "      <th>Temperature (Max) oC.</th>\n",
              "      <th>Temperature (Mean) oC.</th>\n",
              "      <th>Relative Humidity (Min) %.</th>\n",
              "      <th>Relative Humidity (Max) %.</th>\n",
              "      <th>Relative Humidity (Mean) %.</th>\n",
              "      <th>Sea Level Pressure (Min) hP a.</th>\n",
              "      <th>Sea Level Pressure (Max) hP a.</th>\n",
              "      <th>Sea Level Pressure (Mean) hP a.</th>\n",
              "      <th>Precipitation Total mm.</th>\n",
              "      <th>Snowfall Amount cm.</th>\n",
              "      <th>Sunshine Duration min.</th>\n",
              "      <th>Wind Gust (Min) Km/h.</th>\n",
              "      <th>Wind Gust (Max) Km/h.</th>\n",
              "      <th>Wind Gust (Mean) Km/h.</th>\n",
              "      <th>Wind Speed (Min) Km/h.</th>\n",
              "      <th>Wind Speed (Max) Km/h.</th>\n",
              "      <th>Wind Speed (Mean) Km/h</th>\n",
              "    </tr>\n",
              "  </thead>\n",
              "  <tbody>\n",
              "    <tr>\n",
              "      <th>count</th>\n",
              "      <td>1763.000000</td>\n",
              "      <td>1763.000000</td>\n",
              "      <td>1763.000000</td>\n",
              "      <td>1763.000000</td>\n",
              "      <td>1763.000000</td>\n",
              "      <td>1763.000000</td>\n",
              "      <td>1763.000000</td>\n",
              "      <td>1763.000000</td>\n",
              "      <td>1763.000000</td>\n",
              "      <td>1763.000000</td>\n",
              "      <td>1763.000000</td>\n",
              "      <td>1763.000000</td>\n",
              "      <td>1763.000000</td>\n",
              "      <td>1763.000000</td>\n",
              "      <td>1763.000000</td>\n",
              "      <td>1763.000000</td>\n",
              "      <td>1763.000000</td>\n",
              "      <td>1763.000000</td>\n",
              "    </tr>\n",
              "    <tr>\n",
              "      <th>mean</th>\n",
              "      <td>8.738776</td>\n",
              "      <td>16.779298</td>\n",
              "      <td>12.717350</td>\n",
              "      <td>54.092456</td>\n",
              "      <td>87.004538</td>\n",
              "      <td>71.040509</td>\n",
              "      <td>1014.690925</td>\n",
              "      <td>1020.364492</td>\n",
              "      <td>1017.576393</td>\n",
              "      <td>1.502893</td>\n",
              "      <td>0.068015</td>\n",
              "      <td>399.168240</td>\n",
              "      <td>7.235326</td>\n",
              "      <td>30.464208</td>\n",
              "      <td>17.567084</td>\n",
              "      <td>2.932845</td>\n",
              "      <td>14.858762</td>\n",
              "      <td>8.418839</td>\n",
              "    </tr>\n",
              "    <tr>\n",
              "      <th>std</th>\n",
              "      <td>7.803700</td>\n",
              "      <td>9.647769</td>\n",
              "      <td>8.788555</td>\n",
              "      <td>12.949827</td>\n",
              "      <td>7.892077</td>\n",
              "      <td>10.012178</td>\n",
              "      <td>8.848251</td>\n",
              "      <td>8.014133</td>\n",
              "      <td>8.282298</td>\n",
              "      <td>3.496710</td>\n",
              "      <td>0.513935</td>\n",
              "      <td>294.660868</td>\n",
              "      <td>8.221851</td>\n",
              "      <td>16.491422</td>\n",
              "      <td>11.504750</td>\n",
              "      <td>3.470768</td>\n",
              "      <td>7.871249</td>\n",
              "      <td>5.205606</td>\n",
              "    </tr>\n",
              "    <tr>\n",
              "      <th>min</th>\n",
              "      <td>-12.519471</td>\n",
              "      <td>-4.389471</td>\n",
              "      <td>-7.628221</td>\n",
              "      <td>19.000000</td>\n",
              "      <td>53.000000</td>\n",
              "      <td>38.333332</td>\n",
              "      <td>976.100000</td>\n",
              "      <td>981.400000</td>\n",
              "      <td>978.450000</td>\n",
              "      <td>0.000000</td>\n",
              "      <td>0.000000</td>\n",
              "      <td>0.000000</td>\n",
              "      <td>0.000000</td>\n",
              "      <td>4.320000</td>\n",
              "      <td>2.715000</td>\n",
              "      <td>0.000000</td>\n",
              "      <td>2.881557</td>\n",
              "      <td>1.495064</td>\n",
              "    </tr>\n",
              "    <tr>\n",
              "      <th>25%</th>\n",
              "      <td>1.700529</td>\n",
              "      <td>8.200529</td>\n",
              "      <td>4.689279</td>\n",
              "      <td>44.000000</td>\n",
              "      <td>82.000000</td>\n",
              "      <td>63.520834</td>\n",
              "      <td>1010.300000</td>\n",
              "      <td>1015.900000</td>\n",
              "      <td>1013.233400</td>\n",
              "      <td>0.000000</td>\n",
              "      <td>0.000000</td>\n",
              "      <td>123.972160</td>\n",
              "      <td>2.160000</td>\n",
              "      <td>19.080000</td>\n",
              "      <td>9.765000</td>\n",
              "      <td>0.842431</td>\n",
              "      <td>9.304952</td>\n",
              "      <td>4.872080</td>\n",
              "    </tr>\n",
              "    <tr>\n",
              "      <th>50%</th>\n",
              "      <td>10.210529</td>\n",
              "      <td>17.400530</td>\n",
              "      <td>14.618446</td>\n",
              "      <td>54.000000</td>\n",
              "      <td>88.000000</td>\n",
              "      <td>72.000000</td>\n",
              "      <td>1014.600000</td>\n",
              "      <td>1019.500000</td>\n",
              "      <td>1016.954040</td>\n",
              "      <td>0.000000</td>\n",
              "      <td>0.000000</td>\n",
              "      <td>387.746280</td>\n",
              "      <td>4.320000</td>\n",
              "      <td>26.280000</td>\n",
              "      <td>14.145000</td>\n",
              "      <td>1.864800</td>\n",
              "      <td>12.988194</td>\n",
              "      <td>6.939507</td>\n",
              "    </tr>\n",
              "    <tr>\n",
              "      <th>75%</th>\n",
              "      <td>15.530529</td>\n",
              "      <td>25.190529</td>\n",
              "      <td>20.432405</td>\n",
              "      <td>64.000000</td>\n",
              "      <td>93.000000</td>\n",
              "      <td>78.750000</td>\n",
              "      <td>1019.300000</td>\n",
              "      <td>1024.400000</td>\n",
              "      <td>1021.760405</td>\n",
              "      <td>1.200000</td>\n",
              "      <td>0.000000</td>\n",
              "      <td>619.156720</td>\n",
              "      <td>8.820000</td>\n",
              "      <td>37.440000</td>\n",
              "      <td>21.667500</td>\n",
              "      <td>3.729600</td>\n",
              "      <td>18.398964</td>\n",
              "      <td>10.108294</td>\n",
              "    </tr>\n",
              "    <tr>\n",
              "      <th>max</th>\n",
              "      <td>25.820530</td>\n",
              "      <td>36.700527</td>\n",
              "      <td>30.425112</td>\n",
              "      <td>93.000000</td>\n",
              "      <td>100.000000</td>\n",
              "      <td>95.250000</td>\n",
              "      <td>1043.600000</td>\n",
              "      <td>1049.900000</td>\n",
              "      <td>1047.095800</td>\n",
              "      <td>37.399994</td>\n",
              "      <td>13.860001</td>\n",
              "      <td>962.283300</td>\n",
              "      <td>57.960000</td>\n",
              "      <td>133.200000</td>\n",
              "      <td>90.749990</td>\n",
              "      <td>26.673279</td>\n",
              "      <td>59.192370</td>\n",
              "      <td>36.360706</td>\n",
              "    </tr>\n",
              "  </tbody>\n",
              "</table>\n",
              "</div>"
            ],
            "text/plain": [
              "       Temperature (Min) oC.  ...  Wind Speed (Mean) Km/h\n",
              "count            1763.000000  ...             1763.000000\n",
              "mean                8.738776  ...                8.418839\n",
              "std                 7.803700  ...                5.205606\n",
              "min               -12.519471  ...                1.495064\n",
              "25%                 1.700529  ...                4.872080\n",
              "50%                10.210529  ...                6.939507\n",
              "75%                15.530529  ...               10.108294\n",
              "max                25.820530  ...               36.360706\n",
              "\n",
              "[8 rows x 18 columns]"
            ]
          },
          "metadata": {},
          "execution_count": 37
        }
      ]
    },
    {
      "cell_type": "markdown",
      "metadata": {
        "id": "CIZeBv0tHFav"
      },
      "source": [
        "## From the above two commands we can see that there are no missing values in the data."
      ]
    },
    {
      "cell_type": "code",
      "metadata": {
        "colab": {
          "base_uri": "https://localhost:8080/",
          "height": 350
        },
        "id": "rQHsHQsuLBFJ",
        "outputId": "37764879-767e-4f05-f055-c24092a3f31b"
      },
      "source": [
        "sns.boxplot(df['Temperature (Min) oC.'])"
      ],
      "execution_count": 38,
      "outputs": [
        {
          "output_type": "stream",
          "name": "stderr",
          "text": [
            "/usr/local/lib/python3.7/dist-packages/seaborn/_decorators.py:43: FutureWarning: Pass the following variable as a keyword arg: x. From version 0.12, the only valid positional argument will be `data`, and passing other arguments without an explicit keyword will result in an error or misinterpretation.\n",
            "  FutureWarning\n"
          ]
        },
        {
          "output_type": "execute_result",
          "data": {
            "text/plain": [
              "<matplotlib.axes._subplots.AxesSubplot at 0x7fe7c95128d0>"
            ]
          },
          "metadata": {},
          "execution_count": 38
        },
        {
          "output_type": "display_data",
          "data": {
            "image/png": "[encoded data removed]",
            "text/plain": [
              "<Figure size 432x288 with 1 Axes>"
            ]
          },
          "metadata": {
            "needs_background": "light"
          }
        }
      ]
    },
    {
      "cell_type": "code",
      "metadata": {
        "colab": {
          "base_uri": "https://localhost:8080/",
          "height": 0
        },
        "id": "OIh01vSVLYVw",
        "outputId": "5acaef42-ff20-4dbe-ac29-3657f2a31059"
      },
      "source": [
        "length_height = df.shape[0]\n",
        "length_col = df.shape[1]\n",
        "length_height,length_col"
      ],
      "execution_count": 39,
      "outputs": [
        {
          "output_type": "execute_result",
          "data": {
            "text/plain": [
              "(1763, 18)"
            ]
          },
          "metadata": {},
          "execution_count": 39
        }
      ]
    },
    {
      "cell_type": "code",
      "metadata": {
        "colab": {
          "base_uri": "https://localhost:8080/",
          "height": 0
        },
        "id": "YRN9kMsMUuR_",
        "outputId": "70537cfa-b46c-4b9d-9409-fbcb3777ca56"
      },
      "source": [
        "df.iloc[:,0]"
      ],
      "execution_count": 40,
      "outputs": [
        {
          "output_type": "execute_result",
          "data": {
            "text/plain": [
              "0        8.100529\n",
              "1       11.110529\n",
              "2       10.320529\n",
              "3       10.450529\n",
              "4       12.350529\n",
              "          ...    \n",
              "1758     6.160529\n",
              "1759     1.830529\n",
              "1760    -0.529471\n",
              "1761     0.440529\n",
              "1762     2.960529\n",
              "Name: Temperature (Min) oC., Length: 1763, dtype: float64"
            ]
          },
          "metadata": {},
          "execution_count": 40
        }
      ]
    },
    {
      "cell_type": "markdown",
      "metadata": {
        "id": "yQ6J2IrNeAcM"
      },
      "source": [
        "# Remove Outliers\n",
        "### We have used different outlier detection methods such a z-score, quartile range, and distance approach using Mahalanobis Distance to find outliers. We can see that there is almost no difference in the results but each of the method.\n"
      ]
    },
    {
      "cell_type": "markdown",
      "metadata": {
        "id": "ngeF70Pgorlq"
      },
      "source": [
        "### Z-Score\n",
        "### Z-score represents how much standard deviation is a data point from the mean.\n",
        "### 68% of the data points lie between +/- 1 standard deviation.\n",
        "### 95% of the data points lie between +/- 2 standard deviation\n",
        "### 99.7% of the data points lie between +/- 3 standard deviation\n",
        "### Z score and Outliers:\n",
        "### If the z score of a data point is more than 3, it indicates that the data point is quite different from the other data points. Such a data point can be an outlier.\n",
        "\n",
        "\n",
        "### The formula for z-score is Z score = (x -mean) / std. Deviation \n",
        "\n"
      ]
    },
    {
      "cell_type": "code",
      "metadata": {
        "colab": {
          "base_uri": "https://localhost:8080/",
          "height": 350
        },
        "id": "LzfVP79Mv_KN",
        "outputId": "b628538d-1ca6-43cb-f912-c5166202e75f"
      },
      "source": [
        "sns.boxplot(df.iloc[:,6]) #we can see that there are multiple \n",
        "#outliers in the this sample "
      ],
      "execution_count": 41,
      "outputs": [
        {
          "output_type": "stream",
          "name": "stderr",
          "text": [
            "/usr/local/lib/python3.7/dist-packages/seaborn/_decorators.py:43: FutureWarning: Pass the following variable as a keyword arg: x. From version 0.12, the only valid positional argument will be `data`, and passing other arguments without an explicit keyword will result in an error or misinterpretation.\n",
            "  FutureWarning\n"
          ]
        },
        {
          "output_type": "execute_result",
          "data": {
            "text/plain": [
              "<matplotlib.axes._subplots.AxesSubplot at 0x7fe7c949aa50>"
            ]
          },
          "metadata": {},
          "execution_count": 41
        },
        {
          "output_type": "display_data",
          "data": {
            "image/png": "[encoded data removed]",
            "text/plain": [
              "<Figure size 432x288 with 1 Axes>"
            ]
          },
          "metadata": {
            "needs_background": "light"
          }
        }
      ]
    },
    {
      "cell_type": "code",
      "metadata": {
        "id": "o19_RpfvcBQ2",
        "colab": {
          "base_uri": "https://localhost:8080/",
          "height": 507
        },
        "outputId": "ec2f850e-627a-4d40-e868-7e26015550cc"
      },
      "source": [
        "# Z-score appraoch to remove outliers.\n",
        "\n",
        "# 1)For each column, it first computes the Z-score of each value in the column,\n",
        "# relative to the column mean and standard deviation.\n",
        "# 2)It then takes the absolute Z-score because the direction does not matter,\n",
        "# only if it is below the threshold.\n",
        "# 3)all(axis=1) ensures that for each row, all column satisfy the constraint.\n",
        "# 4)Finally, the result of this condition is used to index the dataframe.\n",
        "\n",
        "df[(np.abs(stats.zscore(df)) < 3).all(axis=1)]"
      ],
      "execution_count": 42,
      "outputs": [
        {
          "output_type": "execute_result",
          "data": {
            "text/html": [
              "<div>\n",
              "<style scoped>\n",
              "    .dataframe tbody tr th:only-of-type {\n",
              "        vertical-align: middle;\n",
              "    }\n",
              "\n",
              "    .dataframe tbody tr th {\n",
              "        vertical-align: top;\n",
              "    }\n",
              "\n",
              "    .dataframe thead th {\n",
              "        text-align: right;\n",
              "    }\n",
              "</style>\n",
              "<table border=\"1\" class=\"dataframe\">\n",
              "  <thead>\n",
              "    <tr style=\"text-align: right;\">\n",
              "      <th></th>\n",
              "      <th>Temperature (Min) oC.</th>\n",
              "      <th>Temperature (Max) oC.</th>\n",
              "      <th>Temperature (Mean) oC.</th>\n",
              "      <th>Relative Humidity (Min) %.</th>\n",
              "      <th>Relative Humidity (Max) %.</th>\n",
              "      <th>Relative Humidity (Mean) %.</th>\n",
              "      <th>Sea Level Pressure (Min) hP a.</th>\n",
              "      <th>Sea Level Pressure (Max) hP a.</th>\n",
              "      <th>Sea Level Pressure (Mean) hP a.</th>\n",
              "      <th>Precipitation Total mm.</th>\n",
              "      <th>Snowfall Amount cm.</th>\n",
              "      <th>Sunshine Duration min.</th>\n",
              "      <th>Wind Gust (Min) Km/h.</th>\n",
              "      <th>Wind Gust (Max) Km/h.</th>\n",
              "      <th>Wind Gust (Mean) Km/h.</th>\n",
              "      <th>Wind Speed (Min) Km/h.</th>\n",
              "      <th>Wind Speed (Max) Km/h.</th>\n",
              "      <th>Wind Speed (Mean) Km/h</th>\n",
              "    </tr>\n",
              "  </thead>\n",
              "  <tbody>\n",
              "    <tr>\n",
              "      <th>0</th>\n",
              "      <td>8.100529</td>\n",
              "      <td>17.570530</td>\n",
              "      <td>13.445111</td>\n",
              "      <td>61</td>\n",
              "      <td>96</td>\n",
              "      <td>77.875000</td>\n",
              "      <td>1013.1</td>\n",
              "      <td>1018.4</td>\n",
              "      <td>1015.75830</td>\n",
              "      <td>0.2</td>\n",
              "      <td>0.0</td>\n",
              "      <td>350.56274</td>\n",
              "      <td>3.240000</td>\n",
              "      <td>23.400000</td>\n",
              "      <td>12.210002</td>\n",
              "      <td>1.787066</td>\n",
              "      <td>10.403253</td>\n",
              "      <td>6.639939</td>\n",
              "    </tr>\n",
              "    <tr>\n",
              "      <th>1</th>\n",
              "      <td>11.110529</td>\n",
              "      <td>18.490528</td>\n",
              "      <td>14.988861</td>\n",
              "      <td>59</td>\n",
              "      <td>94</td>\n",
              "      <td>76.458336</td>\n",
              "      <td>1013.9</td>\n",
              "      <td>1016.6</td>\n",
              "      <td>1014.99170</td>\n",
              "      <td>1.9</td>\n",
              "      <td>0.0</td>\n",
              "      <td>287.23404</td>\n",
              "      <td>6.479999</td>\n",
              "      <td>25.199999</td>\n",
              "      <td>14.880001</td>\n",
              "      <td>4.161301</td>\n",
              "      <td>16.285300</td>\n",
              "      <td>8.616541</td>\n",
              "    </tr>\n",
              "    <tr>\n",
              "      <th>2</th>\n",
              "      <td>10.320529</td>\n",
              "      <td>18.170528</td>\n",
              "      <td>14.267612</td>\n",
              "      <td>71</td>\n",
              "      <td>96</td>\n",
              "      <td>83.583336</td>\n",
              "      <td>1015.3</td>\n",
              "      <td>1017.5</td>\n",
              "      <td>1016.38745</td>\n",
              "      <td>0.1</td>\n",
              "      <td>0.0</td>\n",
              "      <td>126.26506</td>\n",
              "      <td>3.240000</td>\n",
              "      <td>24.119999</td>\n",
              "      <td>12.764999</td>\n",
              "      <td>2.028842</td>\n",
              "      <td>11.289829</td>\n",
              "      <td>6.372418</td>\n",
              "    </tr>\n",
              "    <tr>\n",
              "      <th>3</th>\n",
              "      <td>10.450529</td>\n",
              "      <td>24.980530</td>\n",
              "      <td>17.309278</td>\n",
              "      <td>54</td>\n",
              "      <td>92</td>\n",
              "      <td>77.625000</td>\n",
              "      <td>1015.9</td>\n",
              "      <td>1018.7</td>\n",
              "      <td>1017.26250</td>\n",
              "      <td>0.0</td>\n",
              "      <td>0.0</td>\n",
              "      <td>881.24710</td>\n",
              "      <td>2.160000</td>\n",
              "      <td>20.160000</td>\n",
              "      <td>9.480000</td>\n",
              "      <td>0.799200</td>\n",
              "      <td>11.483046</td>\n",
              "      <td>4.690738</td>\n",
              "    </tr>\n",
              "    <tr>\n",
              "      <th>4</th>\n",
              "      <td>12.350529</td>\n",
              "      <td>25.610529</td>\n",
              "      <td>19.881780</td>\n",
              "      <td>47</td>\n",
              "      <td>88</td>\n",
              "      <td>66.583336</td>\n",
              "      <td>1015.7</td>\n",
              "      <td>1020.7</td>\n",
              "      <td>1018.18353</td>\n",
              "      <td>0.0</td>\n",
              "      <td>0.0</td>\n",
              "      <td>951.56665</td>\n",
              "      <td>0.720000</td>\n",
              "      <td>15.840000</td>\n",
              "      <td>5.565001</td>\n",
              "      <td>0.376747</td>\n",
              "      <td>6.443357</td>\n",
              "      <td>3.311275</td>\n",
              "    </tr>\n",
              "    <tr>\n",
              "      <th>...</th>\n",
              "      <td>...</td>\n",
              "      <td>...</td>\n",
              "      <td>...</td>\n",
              "      <td>...</td>\n",
              "      <td>...</td>\n",
              "      <td>...</td>\n",
              "      <td>...</td>\n",
              "      <td>...</td>\n",
              "      <td>...</td>\n",
              "      <td>...</td>\n",
              "      <td>...</td>\n",
              "      <td>...</td>\n",
              "      <td>...</td>\n",
              "      <td>...</td>\n",
              "      <td>...</td>\n",
              "      <td>...</td>\n",
              "      <td>...</td>\n",
              "      <td>...</td>\n",
              "    </tr>\n",
              "    <tr>\n",
              "      <th>1758</th>\n",
              "      <td>6.160529</td>\n",
              "      <td>10.110529</td>\n",
              "      <td>7.720112</td>\n",
              "      <td>82</td>\n",
              "      <td>94</td>\n",
              "      <td>87.500000</td>\n",
              "      <td>1025.6</td>\n",
              "      <td>1034.7</td>\n",
              "      <td>1028.06240</td>\n",
              "      <td>5.0</td>\n",
              "      <td>0.0</td>\n",
              "      <td>0.00000</td>\n",
              "      <td>9.720000</td>\n",
              "      <td>32.760002</td>\n",
              "      <td>18.974997</td>\n",
              "      <td>3.786256</td>\n",
              "      <td>17.082869</td>\n",
              "      <td>9.509177</td>\n",
              "    </tr>\n",
              "    <tr>\n",
              "      <th>1759</th>\n",
              "      <td>1.830529</td>\n",
              "      <td>7.000528</td>\n",
              "      <td>4.553861</td>\n",
              "      <td>53</td>\n",
              "      <td>95</td>\n",
              "      <td>75.625000</td>\n",
              "      <td>1034.7</td>\n",
              "      <td>1040.3</td>\n",
              "      <td>1038.10850</td>\n",
              "      <td>0.0</td>\n",
              "      <td>0.0</td>\n",
              "      <td>502.84442</td>\n",
              "      <td>3.600000</td>\n",
              "      <td>23.039999</td>\n",
              "      <td>16.994999</td>\n",
              "      <td>1.332000</td>\n",
              "      <td>14.241816</td>\n",
              "      <td>8.690425</td>\n",
              "    </tr>\n",
              "    <tr>\n",
              "      <th>1760</th>\n",
              "      <td>-0.529471</td>\n",
              "      <td>4.230528</td>\n",
              "      <td>1.380112</td>\n",
              "      <td>40</td>\n",
              "      <td>83</td>\n",
              "      <td>63.291668</td>\n",
              "      <td>1036.7</td>\n",
              "      <td>1039.8</td>\n",
              "      <td>1038.11240</td>\n",
              "      <td>0.0</td>\n",
              "      <td>0.0</td>\n",
              "      <td>489.58572</td>\n",
              "      <td>5.760000</td>\n",
              "      <td>24.840000</td>\n",
              "      <td>17.070000</td>\n",
              "      <td>1.191377</td>\n",
              "      <td>10.290077</td>\n",
              "      <td>5.954996</td>\n",
              "    </tr>\n",
              "    <tr>\n",
              "      <th>1761</th>\n",
              "      <td>0.440529</td>\n",
              "      <td>7.760529</td>\n",
              "      <td>3.317195</td>\n",
              "      <td>41</td>\n",
              "      <td>69</td>\n",
              "      <td>53.416668</td>\n",
              "      <td>1032.2</td>\n",
              "      <td>1037.5</td>\n",
              "      <td>1034.68320</td>\n",
              "      <td>0.0</td>\n",
              "      <td>0.0</td>\n",
              "      <td>513.05000</td>\n",
              "      <td>2.160000</td>\n",
              "      <td>25.560000</td>\n",
              "      <td>16.140000</td>\n",
              "      <td>0.266400</td>\n",
              "      <td>7.406686</td>\n",
              "      <td>3.565386</td>\n",
              "    </tr>\n",
              "    <tr>\n",
              "      <th>1762</th>\n",
              "      <td>2.960529</td>\n",
              "      <td>8.560529</td>\n",
              "      <td>5.306362</td>\n",
              "      <td>50</td>\n",
              "      <td>84</td>\n",
              "      <td>68.541664</td>\n",
              "      <td>1031.7</td>\n",
              "      <td>1033.6</td>\n",
              "      <td>1032.70420</td>\n",
              "      <td>0.0</td>\n",
              "      <td>0.0</td>\n",
              "      <td>442.23660</td>\n",
              "      <td>0.720000</td>\n",
              "      <td>25.199999</td>\n",
              "      <td>8.204999</td>\n",
              "      <td>0.266400</td>\n",
              "      <td>6.287266</td>\n",
              "      <td>4.138569</td>\n",
              "    </tr>\n",
              "  </tbody>\n",
              "</table>\n",
              "<p>1593 rows × 18 columns</p>\n",
              "</div>"
            ],
            "text/plain": [
              "      Temperature (Min) oC.  ...  Wind Speed (Mean) Km/h\n",
              "0                  8.100529  ...                6.639939\n",
              "1                 11.110529  ...                8.616541\n",
              "2                 10.320529  ...                6.372418\n",
              "3                 10.450529  ...                4.690738\n",
              "4                 12.350529  ...                3.311275\n",
              "...                     ...  ...                     ...\n",
              "1758               6.160529  ...                9.509177\n",
              "1759               1.830529  ...                8.690425\n",
              "1760              -0.529471  ...                5.954996\n",
              "1761               0.440529  ...                3.565386\n",
              "1762               2.960529  ...                4.138569\n",
              "\n",
              "[1593 rows x 18 columns]"
            ]
          },
          "metadata": {},
          "execution_count": 42
        }
      ]
    },
    {
      "cell_type": "code",
      "metadata": {
        "colab": {
          "base_uri": "https://localhost:8080/",
          "height": 350
        },
        "id": "hzV4jkpocRBl",
        "outputId": "9239312c-9a85-42ce-8c30-7efa7f2262b4"
      },
      "source": [
        "# we can a significant number of outliers are removed using z-score approach\n",
        "sns.boxplot(df[(np.abs(stats.zscore(df)) < 3).all(axis=1)].iloc[:,8]) "
      ],
      "execution_count": 43,
      "outputs": [
        {
          "output_type": "stream",
          "name": "stderr",
          "text": [
            "/usr/local/lib/python3.7/dist-packages/seaborn/_decorators.py:43: FutureWarning: Pass the following variable as a keyword arg: x. From version 0.12, the only valid positional argument will be `data`, and passing other arguments without an explicit keyword will result in an error or misinterpretation.\n",
            "  FutureWarning\n"
          ]
        },
        {
          "output_type": "execute_result",
          "data": {
            "text/plain": [
              "<matplotlib.axes._subplots.AxesSubplot at 0x7fe7c941c110>"
            ]
          },
          "metadata": {},
          "execution_count": 43
        },
        {
          "output_type": "display_data",
          "data": {
            "image/png": "[encoded data removed]",
            "text/plain": [
              "<Figure size 432x288 with 1 Axes>"
            ]
          },
          "metadata": {
            "needs_background": "light"
          }
        }
      ]
    },
    {
      "cell_type": "markdown",
      "metadata": {
        "id": "GmswcS1ZoyWv"
      },
      "source": [
        "### Quartile Range Approach"
      ]
    },
    {
      "cell_type": "code",
      "metadata": {
        "colab": {
          "base_uri": "https://localhost:8080/",
          "height": 0
        },
        "id": "C3sLYZRze484",
        "outputId": "4e1f3d23-66bc-4fad-edcb-19db62e32404"
      },
      "source": [
        "# we combine z-score and quartile range approach to remove more outliers\n",
        "#find Q1, Q3, and interquartile range for each column\n",
        "\n",
        "Q1 = df.quantile(q=.25)  #first quartile represents the 25th percentile \n",
        "                          #of the data.\n",
        "Q3 = df.quantile(q=.75)  #third quartile represents the 75th percentile \n",
        "                          #of the data.\n",
        "IQR = df.apply(stats.iqr) \n",
        "\n",
        "#We label a point as an outlier if it satisfies one of the following conditions:\n",
        "#It’s greater than 75th percentile + 1.5 IQR\n",
        "#It’s less than 25th percentile – 1.5 IQR\n",
        "#only keep rows in dataframe that have values within 1.5*IQR of Q1 and Q3\n",
        "data_clean = df[~((df < (Q1-1.5*IQR)) | (df > (Q3+1.5*IQR))).any(axis=1)] \n",
        "\n",
        "#find how many rows are left in the dataframe \n",
        "data_clean.shape"
      ],
      "execution_count": 44,
      "outputs": [
        {
          "output_type": "execute_result",
          "data": {
            "text/plain": [
              "(1179, 18)"
            ]
          },
          "metadata": {},
          "execution_count": 44
        }
      ]
    },
    {
      "cell_type": "code",
      "metadata": {
        "colab": {
          "base_uri": "https://localhost:8080/",
          "height": 350
        },
        "id": "Q4i0h_ybgx4Y",
        "outputId": "4f865c93-962b-469d-ae0e-a603cd75cd1f"
      },
      "source": [
        "#we can see that combining the two appraoches removes even more outliers, \n",
        "#but we have to be carefull as the removing outliers is reducing the \n",
        "#size of data, thus doing it multiple time might be harmful\n",
        "\n",
        "sns.boxplot(data_clean.iloc[:,8]) "
      ],
      "execution_count": 45,
      "outputs": [
        {
          "output_type": "stream",
          "name": "stderr",
          "text": [
            "/usr/local/lib/python3.7/dist-packages/seaborn/_decorators.py:43: FutureWarning: Pass the following variable as a keyword arg: x. From version 0.12, the only valid positional argument will be `data`, and passing other arguments without an explicit keyword will result in an error or misinterpretation.\n",
            "  FutureWarning\n"
          ]
        },
        {
          "output_type": "execute_result",
          "data": {
            "text/plain": [
              "<matplotlib.axes._subplots.AxesSubplot at 0x7fe7c9383ad0>"
            ]
          },
          "metadata": {},
          "execution_count": 45
        },
        {
          "output_type": "display_data",
          "data": {
            "image/png": "[encoded data removed]",
            "text/plain": [
              "<Figure size 432x288 with 1 Axes>"
            ]
          },
          "metadata": {
            "needs_background": "light"
          }
        }
      ]
    },
    {
      "cell_type": "markdown",
      "metadata": {
        "id": "DXp4jCFRo3g7"
      },
      "source": [
        "### Distance Based Approach using Mahalanobis Distance"
      ]
    },
    {
      "cell_type": "code",
      "metadata": {
        "id": "QrS6LDY9qmNd"
      },
      "source": [
        "# the data is converted to numpy array\n",
        "df1 = df.to_numpy()"
      ],
      "execution_count": 46,
      "outputs": []
    },
    {
      "cell_type": "code",
      "metadata": {
        "id": "S1g6JgvPo23R"
      },
      "source": [
        "#we need to obtain the necessary values to calculate the \n",
        "#distance between center and point. \n",
        "#So, these are the center point and covariance matrix between variables\n",
        "# Covariance matrix\n",
        "covariance  = np.cov(df1, rowvar=False)\n",
        "\n",
        "# Covariance matrix power of -1\n",
        "covariance_pm1 = np.linalg.matrix_power(covariance, -1)\n",
        "\n",
        "# Center point\n",
        "centerpoint = np.mean(df1 , axis=0)"
      ],
      "execution_count": 47,
      "outputs": []
    },
    {
      "cell_type": "code",
      "metadata": {
        "id": "xFfOD9zqo26L"
      },
      "source": [
        "#we are ready to find the distance between the center point and each observation\n",
        "# (point) in the data-set. \n",
        "#We also need to find a cutoff value from the Chi-Square distribution. \n",
        "#The reason why Chi-Square is used to find cutoff value is, Mahalanobis Distance\n",
        "# returns the distance as squared (D² ). \n",
        "#We should also take the quantile value as 0.95 while finding cutoff because \n",
        "#the points outside the 0.95 (two-tailed) will be considered as an outlier. \n",
        "#Less quantile means less cutoff value. We also need a degree of freedom value \n",
        "#for Chi-Square, and it is equal to the number of \n",
        "#variables in our data-set, so 2.\n",
        "\n",
        "\n",
        "# Distances between center point and \n",
        "distances = []\n",
        "for i, val in enumerate(df1):\n",
        "      p1 = val\n",
        "      p2 = centerpoint\n",
        "      distance = (p1-p2).T.dot(covariance_pm1).dot(p1-p2)\n",
        "      distances.append(distance)\n",
        "distances = np.array(distances)\n",
        "\n",
        "# Cutoff (threshold) value from Chi-Sqaure Distribution for detecting outliers \n",
        "cutoff = chi2.ppf(0.95, df1.shape[1])\n",
        "\n",
        "# Index of outliers\n",
        "outlierIndexes = np.where(distances > cutoff )"
      ],
      "execution_count": 48,
      "outputs": []
    },
    {
      "cell_type": "code",
      "metadata": {
        "colab": {
          "base_uri": "https://localhost:8080/",
          "height": 292
        },
        "id": "COjai5XAo29Q",
        "outputId": "cafa7a8e-8075-4d1a-b1e1-7a4a00d8a67b"
      },
      "source": [
        "# converting numpy array back to dataframe\n",
        "df2 = pd.DataFrame(data=df1, columns=colnames)\n",
        "df2.head()"
      ],
      "execution_count": 49,
      "outputs": [
        {
          "output_type": "execute_result",
          "data": {
            "text/html": [
              "<div>\n",
              "<style scoped>\n",
              "    .dataframe tbody tr th:only-of-type {\n",
              "        vertical-align: middle;\n",
              "    }\n",
              "\n",
              "    .dataframe tbody tr th {\n",
              "        vertical-align: top;\n",
              "    }\n",
              "\n",
              "    .dataframe thead th {\n",
              "        text-align: right;\n",
              "    }\n",
              "</style>\n",
              "<table border=\"1\" class=\"dataframe\">\n",
              "  <thead>\n",
              "    <tr style=\"text-align: right;\">\n",
              "      <th></th>\n",
              "      <th>Temperature (Min) oC.</th>\n",
              "      <th>Temperature (Max) oC.</th>\n",
              "      <th>Temperature (Mean) oC.</th>\n",
              "      <th>Relative Humidity (Min) %.</th>\n",
              "      <th>Relative Humidity (Max) %.</th>\n",
              "      <th>Relative Humidity (Mean) %.</th>\n",
              "      <th>Sea Level Pressure (Min) hP a.</th>\n",
              "      <th>Sea Level Pressure (Max) hP a.</th>\n",
              "      <th>Sea Level Pressure (Mean) hP a.</th>\n",
              "      <th>Precipitation Total mm.</th>\n",
              "      <th>Snowfall Amount cm.</th>\n",
              "      <th>Sunshine Duration min.</th>\n",
              "      <th>Wind Gust (Min) Km/h.</th>\n",
              "      <th>Wind Gust (Max) Km/h.</th>\n",
              "      <th>Wind Gust (Mean) Km/h.</th>\n",
              "      <th>Wind Speed (Min) Km/h.</th>\n",
              "      <th>Wind Speed (Max) Km/h.</th>\n",
              "      <th>Wind Speed (Mean) Km/h</th>\n",
              "    </tr>\n",
              "  </thead>\n",
              "  <tbody>\n",
              "    <tr>\n",
              "      <th>0</th>\n",
              "      <td>8.100529</td>\n",
              "      <td>17.570530</td>\n",
              "      <td>13.445111</td>\n",
              "      <td>61.0</td>\n",
              "      <td>96.0</td>\n",
              "      <td>77.875000</td>\n",
              "      <td>1013.1</td>\n",
              "      <td>1018.4</td>\n",
              "      <td>1015.75830</td>\n",
              "      <td>0.2</td>\n",
              "      <td>0.0</td>\n",
              "      <td>350.56274</td>\n",
              "      <td>3.240000</td>\n",
              "      <td>23.400000</td>\n",
              "      <td>12.210002</td>\n",
              "      <td>1.787066</td>\n",
              "      <td>10.403253</td>\n",
              "      <td>6.639939</td>\n",
              "    </tr>\n",
              "    <tr>\n",
              "      <th>1</th>\n",
              "      <td>11.110529</td>\n",
              "      <td>18.490528</td>\n",
              "      <td>14.988861</td>\n",
              "      <td>59.0</td>\n",
              "      <td>94.0</td>\n",
              "      <td>76.458336</td>\n",
              "      <td>1013.9</td>\n",
              "      <td>1016.6</td>\n",
              "      <td>1014.99170</td>\n",
              "      <td>1.9</td>\n",
              "      <td>0.0</td>\n",
              "      <td>287.23404</td>\n",
              "      <td>6.479999</td>\n",
              "      <td>25.199999</td>\n",
              "      <td>14.880001</td>\n",
              "      <td>4.161301</td>\n",
              "      <td>16.285300</td>\n",
              "      <td>8.616541</td>\n",
              "    </tr>\n",
              "    <tr>\n",
              "      <th>2</th>\n",
              "      <td>10.320529</td>\n",
              "      <td>18.170528</td>\n",
              "      <td>14.267612</td>\n",
              "      <td>71.0</td>\n",
              "      <td>96.0</td>\n",
              "      <td>83.583336</td>\n",
              "      <td>1015.3</td>\n",
              "      <td>1017.5</td>\n",
              "      <td>1016.38745</td>\n",
              "      <td>0.1</td>\n",
              "      <td>0.0</td>\n",
              "      <td>126.26506</td>\n",
              "      <td>3.240000</td>\n",
              "      <td>24.119999</td>\n",
              "      <td>12.764999</td>\n",
              "      <td>2.028842</td>\n",
              "      <td>11.289829</td>\n",
              "      <td>6.372418</td>\n",
              "    </tr>\n",
              "    <tr>\n",
              "      <th>3</th>\n",
              "      <td>10.450529</td>\n",
              "      <td>24.980530</td>\n",
              "      <td>17.309278</td>\n",
              "      <td>54.0</td>\n",
              "      <td>92.0</td>\n",
              "      <td>77.625000</td>\n",
              "      <td>1015.9</td>\n",
              "      <td>1018.7</td>\n",
              "      <td>1017.26250</td>\n",
              "      <td>0.0</td>\n",
              "      <td>0.0</td>\n",
              "      <td>881.24710</td>\n",
              "      <td>2.160000</td>\n",
              "      <td>20.160000</td>\n",
              "      <td>9.480000</td>\n",
              "      <td>0.799200</td>\n",
              "      <td>11.483046</td>\n",
              "      <td>4.690738</td>\n",
              "    </tr>\n",
              "    <tr>\n",
              "      <th>4</th>\n",
              "      <td>12.350529</td>\n",
              "      <td>25.610529</td>\n",
              "      <td>19.881780</td>\n",
              "      <td>47.0</td>\n",
              "      <td>88.0</td>\n",
              "      <td>66.583336</td>\n",
              "      <td>1015.7</td>\n",
              "      <td>1020.7</td>\n",
              "      <td>1018.18353</td>\n",
              "      <td>0.0</td>\n",
              "      <td>0.0</td>\n",
              "      <td>951.56665</td>\n",
              "      <td>0.720000</td>\n",
              "      <td>15.840000</td>\n",
              "      <td>5.565001</td>\n",
              "      <td>0.376747</td>\n",
              "      <td>6.443357</td>\n",
              "      <td>3.311275</td>\n",
              "    </tr>\n",
              "  </tbody>\n",
              "</table>\n",
              "</div>"
            ],
            "text/plain": [
              "   Temperature (Min) oC.  ...  Wind Speed (Mean) Km/h\n",
              "0               8.100529  ...                6.639939\n",
              "1              11.110529  ...                8.616541\n",
              "2              10.320529  ...                6.372418\n",
              "3              10.450529  ...                4.690738\n",
              "4              12.350529  ...                3.311275\n",
              "\n",
              "[5 rows x 18 columns]"
            ]
          },
          "metadata": {},
          "execution_count": 49
        }
      ]
    },
    {
      "cell_type": "code",
      "metadata": {
        "id": "2T3G9erKo2_i"
      },
      "source": [
        "# dropping the outliers from the obtained indexes\n",
        "df2 = df.drop(index=outlierIndexes[0])"
      ],
      "execution_count": 50,
      "outputs": []
    },
    {
      "cell_type": "code",
      "metadata": {
        "colab": {
          "base_uri": "https://localhost:8080/",
          "height": 0
        },
        "id": "fobZ2w0LpVxQ",
        "outputId": "64df6355-5dc5-4577-be2c-948923f615d0"
      },
      "source": [
        "df2.shape #the shape suggests that we have successfully removed the outliear"
      ],
      "execution_count": 51,
      "outputs": [
        {
          "output_type": "execute_result",
          "data": {
            "text/plain": [
              "(1538, 18)"
            ]
          },
          "metadata": {},
          "execution_count": 51
        }
      ]
    },
    {
      "cell_type": "code",
      "metadata": {
        "colab": {
          "base_uri": "https://localhost:8080/",
          "height": 350
        },
        "id": "iw_dbeh3uO11",
        "outputId": "0986b0f5-5cb6-4886-d92a-0e4bcf925791"
      },
      "source": [
        "#we can that this distance based approach is also \n",
        "#usefull at removing th outliers.\n",
        "sns.boxplot(df2.iloc[:,8])"
      ],
      "execution_count": 52,
      "outputs": [
        {
          "output_type": "stream",
          "name": "stderr",
          "text": [
            "/usr/local/lib/python3.7/dist-packages/seaborn/_decorators.py:43: FutureWarning: Pass the following variable as a keyword arg: x. From version 0.12, the only valid positional argument will be `data`, and passing other arguments without an explicit keyword will result in an error or misinterpretation.\n",
            "  FutureWarning\n"
          ]
        },
        {
          "output_type": "execute_result",
          "data": {
            "text/plain": [
              "<matplotlib.axes._subplots.AxesSubplot at 0x7fe7c930bf50>"
            ]
          },
          "metadata": {},
          "execution_count": 52
        },
        {
          "output_type": "display_data",
          "data": {
            "image/png": "[encoded data removed]",
            "text/plain": [
              "<Figure size 432x288 with 1 Axes>"
            ]
          },
          "metadata": {
            "needs_background": "light"
          }
        }
      ]
    },
    {
      "cell_type": "markdown",
      "metadata": {
        "id": "DOYoR9zSeHOO"
      },
      "source": [
        "# Feature Selection\n",
        "### Here the variables are choosen based on the correlation they have.\n",
        "### There are many better feature selection options but since at this we dont have the labels for the clustering dataset we can cant compare the features and labels to decide which features will be used."
      ]
    },
    {
      "cell_type": "code",
      "metadata": {
        "id": "VhL1TIcjeK2g"
      },
      "source": [
        "#Generating the correlation matrix\n",
        "correlation_matrix = df.corr()"
      ],
      "execution_count": 53,
      "outputs": []
    },
    {
      "cell_type": "code",
      "metadata": {
        "colab": {
          "base_uri": "https://localhost:8080/",
          "height": 436
        },
        "id": "BeTFT1hAifq4",
        "outputId": "6c958f21-6dfe-4ef4-90c0-f441f4a22ef4"
      },
      "source": [
        "#Generating the correlation heat-map\n",
        "sns.heatmap(correlation_matrix)"
      ],
      "execution_count": 54,
      "outputs": [
        {
          "output_type": "execute_result",
          "data": {
            "text/plain": [
              "<matplotlib.axes._subplots.AxesSubplot at 0x7fe7c9263250>"
            ]
          },
          "metadata": {},
          "execution_count": 54
        },
        {
          "output_type": "display_data",
          "data": {
            "image/png": "[encoded data removed]",
            "text/plain": [
              "<Figure size 432x288 with 2 Axes>"
            ]
          },
          "metadata": {
            "needs_background": "light"
          }
        }
      ]
    },
    {
      "cell_type": "code",
      "metadata": {
        "id": "h7xqdeSciiNQ"
      },
      "source": [
        "#we compare the correlation between features and remove one of two \n",
        "#features that have a correlation higher than 0.9\n",
        "columns = np.full((correlation_matrix.shape[0],), True, dtype=bool)  #create a \n",
        "                                                #numpy array with .full function\n",
        "for i in range(correlation_matrix.shape[0]): \n",
        "    for j in range(i+1, correlation_matrix.shape[0]):\n",
        "        if correlation_matrix.iloc[i,j] >= 0.9:       \n",
        "            if columns[j]:\n",
        "                columns[j] = False        \n",
        "selected_columns = df.columns[columns]\n",
        "df3 = df[selected_columns]"
      ],
      "execution_count": 55,
      "outputs": []
    },
    {
      "cell_type": "code",
      "metadata": {
        "colab": {
          "base_uri": "https://localhost:8080/",
          "height": 0
        },
        "id": "Fr6kYZBT0eBt",
        "outputId": "8039d68c-a8e6-43c9-8efa-4e71c2805cf3"
      },
      "source": [
        "selected_columns"
      ],
      "execution_count": 56,
      "outputs": [
        {
          "output_type": "execute_result",
          "data": {
            "text/plain": [
              "Index(['Temperature (Min) oC.', 'Relative Humidity (Min) %.',\n",
              "       'Relative Humidity (Max) %.', 'Relative Humidity (Mean) %.',\n",
              "       'Sea Level Pressure (Min) hP a.', 'Precipitation Total mm.',\n",
              "       'Snowfall Amount cm.', 'Sunshine Duration min.',\n",
              "       'Wind Gust (Min) Km/h.', 'Wind Gust (Max) Km/h.',\n",
              "       'Wind Gust (Mean) Km/h.', 'Wind Speed (Min) Km/h.',\n",
              "       'Wind Speed (Max) Km/h.'],\n",
              "      dtype='object')"
            ]
          },
          "metadata": {},
          "execution_count": 56
        }
      ]
    },
    {
      "cell_type": "markdown",
      "metadata": {
        "id": "qQn3RTScn1Jj"
      },
      "source": [
        "# Normazilaztion and Standardization"
      ]
    },
    {
      "cell_type": "code",
      "metadata": {
        "id": "llvbQQYXi9Ko"
      },
      "source": [
        "#creating a function for normalization\n",
        "def normalise(data):  # take data as parameter for function \n",
        "    normalisedData = data.copy()  #copy the data to normalisedData\n",
        "\n",
        "    rows = data.shape[0]     #using .shape extract the number of rows \n",
        "    cols = data.shape[1]     #using .shape extract the number of columns\n",
        "\n",
        "    for j in range(cols):    #initialize a for loop to normalize each element \n",
        "        maxElement = np.amax(data[:,j])         #find the max value in column\n",
        "        minElement = np.amin(data[:,j])         #find the min value in column\n",
        "        #apply the formula to each element of the data so normalize it.\n",
        "        for i in range(rows):        \n",
        "            normalisedData[i,j] = (data[i,j] - minElement) / (maxElement - minElement)    \n",
        "        \n",
        "    return normalisedData    #return the normalized data\n"
      ],
      "execution_count": 57,
      "outputs": []
    },
    {
      "cell_type": "code",
      "metadata": {
        "id": "OuHXjQjumKPC"
      },
      "source": [
        "numpy_df = df3.to_numpy()      #convert the dataframe to numpy array"
      ],
      "execution_count": 58,
      "outputs": []
    },
    {
      "cell_type": "code",
      "metadata": {
        "id": "5haQ84zUlO5Y"
      },
      "source": [
        "normalisedData = normalise(numpy_df)    #pass the numpy array(actual data) \n",
        "                                        #to the funtion"
      ],
      "execution_count": 59,
      "outputs": []
    },
    {
      "cell_type": "code",
      "metadata": {
        "colab": {
          "base_uri": "https://localhost:8080/",
          "height": 255
        },
        "id": "KRlj9GqAmQJU",
        "outputId": "de49c7b0-5592-4015-aa6e-0b34930e09b1"
      },
      "source": [
        " #now convert the normalized data back to dataframe\n",
        "normalized_df = pd.DataFrame(normalisedData, columns=df3.columns)   \n",
        "normalized_df.head()  #we can see all values range from 0-1"
      ],
      "execution_count": 60,
      "outputs": [
        {
          "output_type": "execute_result",
          "data": {
            "text/html": [
              "<div>\n",
              "<style scoped>\n",
              "    .dataframe tbody tr th:only-of-type {\n",
              "        vertical-align: middle;\n",
              "    }\n",
              "\n",
              "    .dataframe tbody tr th {\n",
              "        vertical-align: top;\n",
              "    }\n",
              "\n",
              "    .dataframe thead th {\n",
              "        text-align: right;\n",
              "    }\n",
              "</style>\n",
              "<table border=\"1\" class=\"dataframe\">\n",
              "  <thead>\n",
              "    <tr style=\"text-align: right;\">\n",
              "      <th></th>\n",
              "      <th>Temperature (Min) oC.</th>\n",
              "      <th>Relative Humidity (Min) %.</th>\n",
              "      <th>Relative Humidity (Max) %.</th>\n",
              "      <th>Relative Humidity (Mean) %.</th>\n",
              "      <th>Sea Level Pressure (Min) hP a.</th>\n",
              "      <th>Precipitation Total mm.</th>\n",
              "      <th>Snowfall Amount cm.</th>\n",
              "      <th>Sunshine Duration min.</th>\n",
              "      <th>Wind Gust (Min) Km/h.</th>\n",
              "      <th>Wind Gust (Max) Km/h.</th>\n",
              "      <th>Wind Gust (Mean) Km/h.</th>\n",
              "      <th>Wind Speed (Min) Km/h.</th>\n",
              "      <th>Wind Speed (Max) Km/h.</th>\n",
              "    </tr>\n",
              "  </thead>\n",
              "  <tbody>\n",
              "    <tr>\n",
              "      <th>0</th>\n",
              "      <td>0.537819</td>\n",
              "      <td>0.567568</td>\n",
              "      <td>0.914894</td>\n",
              "      <td>0.694729</td>\n",
              "      <td>0.548148</td>\n",
              "      <td>0.005348</td>\n",
              "      <td>0.0</td>\n",
              "      <td>0.364303</td>\n",
              "      <td>0.055901</td>\n",
              "      <td>0.148045</td>\n",
              "      <td>0.107855</td>\n",
              "      <td>0.066998</td>\n",
              "      <td>0.133575</td>\n",
              "    </tr>\n",
              "    <tr>\n",
              "      <th>1</th>\n",
              "      <td>0.616328</td>\n",
              "      <td>0.540541</td>\n",
              "      <td>0.872340</td>\n",
              "      <td>0.669839</td>\n",
              "      <td>0.560000</td>\n",
              "      <td>0.050802</td>\n",
              "      <td>0.0</td>\n",
              "      <td>0.298492</td>\n",
              "      <td>0.111801</td>\n",
              "      <td>0.162011</td>\n",
              "      <td>0.138184</td>\n",
              "      <td>0.156010</td>\n",
              "      <td>0.238031</td>\n",
              "    </tr>\n",
              "    <tr>\n",
              "      <th>2</th>\n",
              "      <td>0.595722</td>\n",
              "      <td>0.702703</td>\n",
              "      <td>0.914894</td>\n",
              "      <td>0.795022</td>\n",
              "      <td>0.580741</td>\n",
              "      <td>0.002674</td>\n",
              "      <td>0.0</td>\n",
              "      <td>0.131214</td>\n",
              "      <td>0.055901</td>\n",
              "      <td>0.153631</td>\n",
              "      <td>0.114159</td>\n",
              "      <td>0.076063</td>\n",
              "      <td>0.149319</td>\n",
              "    </tr>\n",
              "    <tr>\n",
              "      <th>3</th>\n",
              "      <td>0.599113</td>\n",
              "      <td>0.472973</td>\n",
              "      <td>0.829787</td>\n",
              "      <td>0.690337</td>\n",
              "      <td>0.589630</td>\n",
              "      <td>0.000000</td>\n",
              "      <td>0.0</td>\n",
              "      <td>0.915788</td>\n",
              "      <td>0.037267</td>\n",
              "      <td>0.122905</td>\n",
              "      <td>0.076844</td>\n",
              "      <td>0.029963</td>\n",
              "      <td>0.152750</td>\n",
              "    </tr>\n",
              "    <tr>\n",
              "      <th>4</th>\n",
              "      <td>0.648670</td>\n",
              "      <td>0.378378</td>\n",
              "      <td>0.744681</td>\n",
              "      <td>0.496340</td>\n",
              "      <td>0.586667</td>\n",
              "      <td>0.000000</td>\n",
              "      <td>0.0</td>\n",
              "      <td>0.988863</td>\n",
              "      <td>0.012422</td>\n",
              "      <td>0.089385</td>\n",
              "      <td>0.032373</td>\n",
              "      <td>0.014124</td>\n",
              "      <td>0.063253</td>\n",
              "    </tr>\n",
              "  </tbody>\n",
              "</table>\n",
              "</div>"
            ],
            "text/plain": [
              "   Temperature (Min) oC.  ...  Wind Speed (Max) Km/h.\n",
              "0               0.537819  ...                0.133575\n",
              "1               0.616328  ...                0.238031\n",
              "2               0.595722  ...                0.149319\n",
              "3               0.599113  ...                0.152750\n",
              "4               0.648670  ...                0.063253\n",
              "\n",
              "[5 rows x 13 columns]"
            ]
          },
          "metadata": {},
          "execution_count": 60
        }
      ]
    },
    {
      "cell_type": "code",
      "metadata": {
        "id": "KsfBalo4mwR8"
      },
      "source": [
        "# function to standardize the data \n",
        "def standard(data):\n",
        "    standardData = data.copy()\n",
        "    \n",
        "    rows = data.shape[0]       #using .shape extract the number of rows \n",
        "    cols = data.shape[1]       #using .shape extract the number of columns\n",
        "\n",
        "    for j in range(cols):\n",
        "        sigma = np.std(data[:,j])       #calculate the standard deviation of the column\n",
        "        mu = np.mean(data[:,j])         #calculate the mean of the column\n",
        "\n",
        "        for i in range(rows):\n",
        "            standardData[i,j] = (data[i,j] - mu)/sigma        #standardize each element using this formula\n",
        "\n",
        "    return standardData      #return standardized data"
      ],
      "execution_count": 61,
      "outputs": []
    },
    {
      "cell_type": "code",
      "metadata": {
        "id": "n6Q3uTcMnYV9"
      },
      "source": [
        "numpy_df = normalized_df.to_numpy()    #converting the normalized data to numpy array"
      ],
      "execution_count": 62,
      "outputs": []
    },
    {
      "cell_type": "code",
      "metadata": {
        "id": "NpDBMHc9nd5k"
      },
      "source": [
        "#passing the numply array to the standard function. \n",
        "#normalized data is passed because standardization assumes the data to be normal.\n",
        "scaledData = standard(numpy_df)       \n",
        "                                     "
      ],
      "execution_count": 63,
      "outputs": []
    },
    {
      "cell_type": "code",
      "metadata": {
        "colab": {
          "base_uri": "https://localhost:8080/",
          "height": 255
        },
        "id": "pJ89OywynklL",
        "outputId": "0e896454-b4ee-428a-b359-b07d0432cd4b"
      },
      "source": [
        "#the scaled data is converted to a dataframe\n",
        "scaled_df = pd.DataFrame(scaledData, columns=normalized_df.columns)     \n",
        "scaled_df.head()"
      ],
      "execution_count": 64,
      "outputs": [
        {
          "output_type": "execute_result",
          "data": {
            "text/html": [
              "<div>\n",
              "<style scoped>\n",
              "    .dataframe tbody tr th:only-of-type {\n",
              "        vertical-align: middle;\n",
              "    }\n",
              "\n",
              "    .dataframe tbody tr th {\n",
              "        vertical-align: top;\n",
              "    }\n",
              "\n",
              "    .dataframe thead th {\n",
              "        text-align: right;\n",
              "    }\n",
              "</style>\n",
              "<table border=\"1\" class=\"dataframe\">\n",
              "  <thead>\n",
              "    <tr style=\"text-align: right;\">\n",
              "      <th></th>\n",
              "      <th>Temperature (Min) oC.</th>\n",
              "      <th>Relative Humidity (Min) %.</th>\n",
              "      <th>Relative Humidity (Max) %.</th>\n",
              "      <th>Relative Humidity (Mean) %.</th>\n",
              "      <th>Sea Level Pressure (Min) hP a.</th>\n",
              "      <th>Precipitation Total mm.</th>\n",
              "      <th>Snowfall Amount cm.</th>\n",
              "      <th>Sunshine Duration min.</th>\n",
              "      <th>Wind Gust (Min) Km/h.</th>\n",
              "      <th>Wind Gust (Max) Km/h.</th>\n",
              "      <th>Wind Gust (Mean) Km/h.</th>\n",
              "      <th>Wind Speed (Min) Km/h.</th>\n",
              "      <th>Wind Speed (Max) Km/h.</th>\n",
              "    </tr>\n",
              "  </thead>\n",
              "  <tbody>\n",
              "    <tr>\n",
              "      <th>0</th>\n",
              "      <td>-0.081811</td>\n",
              "      <td>0.533560</td>\n",
              "      <td>1.140133</td>\n",
              "      <td>0.682812</td>\n",
              "      <td>-0.179852</td>\n",
              "      <td>-0.372711</td>\n",
              "      <td>-0.132379</td>\n",
              "      <td>-0.165001</td>\n",
              "      <td>-0.486078</td>\n",
              "      <td>-0.428478</td>\n",
              "      <td>-0.465773</td>\n",
              "      <td>-0.330216</td>\n",
              "      <td>-0.566209</td>\n",
              "    </tr>\n",
              "    <tr>\n",
              "      <th>1</th>\n",
              "      <td>0.304013</td>\n",
              "      <td>0.379073</td>\n",
              "      <td>0.886642</td>\n",
              "      <td>0.541277</td>\n",
              "      <td>-0.089413</td>\n",
              "      <td>0.113598</td>\n",
              "      <td>-0.132379</td>\n",
              "      <td>-0.379982</td>\n",
              "      <td>-0.091894</td>\n",
              "      <td>-0.319299</td>\n",
              "      <td>-0.233629</td>\n",
              "      <td>0.354044</td>\n",
              "      <td>0.181285</td>\n",
              "    </tr>\n",
              "    <tr>\n",
              "      <th>2</th>\n",
              "      <td>0.202750</td>\n",
              "      <td>1.305990</td>\n",
              "      <td>1.140133</td>\n",
              "      <td>1.253113</td>\n",
              "      <td>0.068855</td>\n",
              "      <td>-0.401318</td>\n",
              "      <td>-0.132379</td>\n",
              "      <td>-0.926423</td>\n",
              "      <td>-0.486078</td>\n",
              "      <td>-0.384807</td>\n",
              "      <td>-0.417519</td>\n",
              "      <td>-0.260536</td>\n",
              "      <td>-0.453542</td>\n",
              "    </tr>\n",
              "    <tr>\n",
              "      <th>3</th>\n",
              "      <td>0.219414</td>\n",
              "      <td>-0.007142</td>\n",
              "      <td>0.633151</td>\n",
              "      <td>0.657835</td>\n",
              "      <td>0.136684</td>\n",
              "      <td>-0.429924</td>\n",
              "      <td>-0.132379</td>\n",
              "      <td>1.636511</td>\n",
              "      <td>-0.617472</td>\n",
              "      <td>-0.625000</td>\n",
              "      <td>-0.703134</td>\n",
              "      <td>-0.614922</td>\n",
              "      <td>-0.428988</td>\n",
              "    </tr>\n",
              "    <tr>\n",
              "      <th>4</th>\n",
              "      <td>0.462957</td>\n",
              "      <td>-0.547843</td>\n",
              "      <td>0.126170</td>\n",
              "      <td>-0.445301</td>\n",
              "      <td>0.114075</td>\n",
              "      <td>-0.429924</td>\n",
              "      <td>-0.132379</td>\n",
              "      <td>1.875224</td>\n",
              "      <td>-0.792665</td>\n",
              "      <td>-0.887028</td>\n",
              "      <td>-1.043524</td>\n",
              "      <td>-0.736674</td>\n",
              "      <td>-1.069435</td>\n",
              "    </tr>\n",
              "  </tbody>\n",
              "</table>\n",
              "</div>"
            ],
            "text/plain": [
              "   Temperature (Min) oC.  ...  Wind Speed (Max) Km/h.\n",
              "0              -0.081811  ...               -0.566209\n",
              "1               0.304013  ...                0.181285\n",
              "2               0.202750  ...               -0.453542\n",
              "3               0.219414  ...               -0.428988\n",
              "4               0.462957  ...               -1.069435\n",
              "\n",
              "[5 rows x 13 columns]"
            ]
          },
          "metadata": {},
          "execution_count": 64
        }
      ]
    },
    {
      "cell_type": "markdown",
      "metadata": {
        "id": "w7m_XQSYn_V-"
      },
      "source": [
        "# Data 2\n"
      ]
    },
    {
      "cell_type": "code",
      "metadata": {
        "colab": {
          "base_uri": "https://localhost:8080/",
          "height": 204
        },
        "id": "3Veoy2RCoD5U",
        "outputId": "e2a11b57-71be-415a-a986-3db681d28dfb"
      },
      "source": [
        "# creating and column names for the second data set and importing the data\n",
        "colnames1 = \"W\", \"L\", \"A\"\n",
        "data2 = pd.read_csv(\"/content/drive/MyDrive/WLA.csv\", names=colnames1)\n",
        "data2.head()"
      ],
      "execution_count": 65,
      "outputs": [
        {
          "output_type": "execute_result",
          "data": {
            "text/html": [
              "<div>\n",
              "<style scoped>\n",
              "    .dataframe tbody tr th:only-of-type {\n",
              "        vertical-align: middle;\n",
              "    }\n",
              "\n",
              "    .dataframe tbody tr th {\n",
              "        vertical-align: top;\n",
              "    }\n",
              "\n",
              "    .dataframe thead th {\n",
              "        text-align: right;\n",
              "    }\n",
              "</style>\n",
              "<table border=\"1\" class=\"dataframe\">\n",
              "  <thead>\n",
              "    <tr style=\"text-align: right;\">\n",
              "      <th></th>\n",
              "      <th>W</th>\n",
              "      <th>L</th>\n",
              "      <th>A</th>\n",
              "    </tr>\n",
              "  </thead>\n",
              "  <tbody>\n",
              "    <tr>\n",
              "      <th>0</th>\n",
              "      <td>25</td>\n",
              "      <td>35</td>\n",
              "      <td>875</td>\n",
              "    </tr>\n",
              "    <tr>\n",
              "      <th>1</th>\n",
              "      <td>16</td>\n",
              "      <td>45</td>\n",
              "      <td>720</td>\n",
              "    </tr>\n",
              "    <tr>\n",
              "      <th>2</th>\n",
              "      <td>1</td>\n",
              "      <td>39</td>\n",
              "      <td>39</td>\n",
              "    </tr>\n",
              "    <tr>\n",
              "      <th>3</th>\n",
              "      <td>2</td>\n",
              "      <td>36</td>\n",
              "      <td>72</td>\n",
              "    </tr>\n",
              "    <tr>\n",
              "      <th>4</th>\n",
              "      <td>6</td>\n",
              "      <td>13</td>\n",
              "      <td>78</td>\n",
              "    </tr>\n",
              "  </tbody>\n",
              "</table>\n",
              "</div>"
            ],
            "text/plain": [
              "    W   L    A\n",
              "0  25  35  875\n",
              "1  16  45  720\n",
              "2   1  39   39\n",
              "3   2  36   72\n",
              "4   6  13   78"
            ]
          },
          "metadata": {},
          "execution_count": 65
        }
      ]
    },
    {
      "cell_type": "code",
      "metadata": {
        "colab": {
          "base_uri": "https://localhost:8080/",
          "height": 204
        },
        "id": "b1Sv3xNruTzv",
        "outputId": "8976927c-fc26-4a8f-fcda-be6227e95137"
      },
      "source": [
        "#importing the labels for the second data set\n",
        "data2_labels = pd.read_csv(\"/content/drive/MyDrive/Labels.csv\", names=[\"Labels\"])\n",
        "data2_labels.head()"
      ],
      "execution_count": 66,
      "outputs": [
        {
          "output_type": "execute_result",
          "data": {
            "text/html": [
              "<div>\n",
              "<style scoped>\n",
              "    .dataframe tbody tr th:only-of-type {\n",
              "        vertical-align: middle;\n",
              "    }\n",
              "\n",
              "    .dataframe tbody tr th {\n",
              "        vertical-align: top;\n",
              "    }\n",
              "\n",
              "    .dataframe thead th {\n",
              "        text-align: right;\n",
              "    }\n",
              "</style>\n",
              "<table border=\"1\" class=\"dataframe\">\n",
              "  <thead>\n",
              "    <tr style=\"text-align: right;\">\n",
              "      <th></th>\n",
              "      <th>Labels</th>\n",
              "    </tr>\n",
              "  </thead>\n",
              "  <tbody>\n",
              "    <tr>\n",
              "      <th>0</th>\n",
              "      <td>2</td>\n",
              "    </tr>\n",
              "    <tr>\n",
              "      <th>1</th>\n",
              "      <td>2</td>\n",
              "    </tr>\n",
              "    <tr>\n",
              "      <th>2</th>\n",
              "      <td>2</td>\n",
              "    </tr>\n",
              "    <tr>\n",
              "      <th>3</th>\n",
              "      <td>2</td>\n",
              "    </tr>\n",
              "    <tr>\n",
              "      <th>4</th>\n",
              "      <td>2</td>\n",
              "    </tr>\n",
              "  </tbody>\n",
              "</table>\n",
              "</div>"
            ],
            "text/plain": [
              "   Labels\n",
              "0       2\n",
              "1       2\n",
              "2       2\n",
              "3       2\n",
              "4       2"
            ]
          },
          "metadata": {},
          "execution_count": 66
        }
      ]
    },
    {
      "cell_type": "code",
      "metadata": {
        "colab": {
          "base_uri": "https://localhost:8080/",
          "height": 0
        },
        "id": "2B3Lb1iRwIS3",
        "outputId": "1bc8cd01-91e1-45a1-f30e-620f43022660"
      },
      "source": [
        "#checking if there are any missing values in this case there are none\n",
        "data2.isnull().sum()"
      ],
      "execution_count": 67,
      "outputs": [
        {
          "output_type": "execute_result",
          "data": {
            "text/plain": [
              "W    0\n",
              "L    0\n",
              "A    0\n",
              "dtype: int64"
            ]
          },
          "metadata": {},
          "execution_count": 67
        }
      ]
    },
    {
      "cell_type": "code",
      "metadata": {
        "id": "S-fINdt2wQhX"
      },
      "source": [
        "#using z-score approach to remove outliers\n",
        "data2 = data2[(np.abs(stats.zscore(data2)) < 3).all(axis=1)]"
      ],
      "execution_count": 68,
      "outputs": []
    },
    {
      "cell_type": "code",
      "metadata": {
        "colab": {
          "base_uri": "https://localhost:8080/",
          "height": 204
        },
        "id": "Mu6hYe1t3Q1l",
        "outputId": "b478e56c-4ef6-4fd2-fcb5-d56ed8bd3fdf"
      },
      "source": [
        "data2.head()"
      ],
      "execution_count": 69,
      "outputs": [
        {
          "output_type": "execute_result",
          "data": {
            "text/html": [
              "<div>\n",
              "<style scoped>\n",
              "    .dataframe tbody tr th:only-of-type {\n",
              "        vertical-align: middle;\n",
              "    }\n",
              "\n",
              "    .dataframe tbody tr th {\n",
              "        vertical-align: top;\n",
              "    }\n",
              "\n",
              "    .dataframe thead th {\n",
              "        text-align: right;\n",
              "    }\n",
              "</style>\n",
              "<table border=\"1\" class=\"dataframe\">\n",
              "  <thead>\n",
              "    <tr style=\"text-align: right;\">\n",
              "      <th></th>\n",
              "      <th>W</th>\n",
              "      <th>L</th>\n",
              "      <th>A</th>\n",
              "    </tr>\n",
              "  </thead>\n",
              "  <tbody>\n",
              "    <tr>\n",
              "      <th>0</th>\n",
              "      <td>25</td>\n",
              "      <td>35</td>\n",
              "      <td>875</td>\n",
              "    </tr>\n",
              "    <tr>\n",
              "      <th>1</th>\n",
              "      <td>16</td>\n",
              "      <td>45</td>\n",
              "      <td>720</td>\n",
              "    </tr>\n",
              "    <tr>\n",
              "      <th>2</th>\n",
              "      <td>1</td>\n",
              "      <td>39</td>\n",
              "      <td>39</td>\n",
              "    </tr>\n",
              "    <tr>\n",
              "      <th>3</th>\n",
              "      <td>2</td>\n",
              "      <td>36</td>\n",
              "      <td>72</td>\n",
              "    </tr>\n",
              "    <tr>\n",
              "      <th>4</th>\n",
              "      <td>6</td>\n",
              "      <td>13</td>\n",
              "      <td>78</td>\n",
              "    </tr>\n",
              "  </tbody>\n",
              "</table>\n",
              "</div>"
            ],
            "text/plain": [
              "    W   L    A\n",
              "0  25  35  875\n",
              "1  16  45  720\n",
              "2   1  39   39\n",
              "3   2  36   72\n",
              "4   6  13   78"
            ]
          },
          "metadata": {},
          "execution_count": 69
        }
      ]
    },
    {
      "cell_type": "code",
      "metadata": {
        "id": "J0jHldtG4MtZ"
      },
      "source": [
        "numpy_df = data2.to_numpy()  #converting data 2 in numpy array"
      ],
      "execution_count": 70,
      "outputs": []
    },
    {
      "cell_type": "code",
      "metadata": {
        "id": "QCF1MvNK4tLb"
      },
      "source": [
        "normalizedData1 = normalise(numpy_df)  #normalize data 2"
      ],
      "execution_count": 71,
      "outputs": []
    },
    {
      "cell_type": "code",
      "metadata": {
        "id": "GQy-22WCKks7",
        "colab": {
          "base_uri": "https://localhost:8080/",
          "height": 204
        },
        "outputId": "98183059-fad1-487e-c5e5-8440427edae9"
      },
      "source": [
        "scaledData1 = standard(normalizedData1)    #standardize data 2\n",
        "\n",
        "scaledData1 = pd.DataFrame(scaledData1, columns=data2.columns)\n",
        "scaledData1.head()       #create the data frame"
      ],
      "execution_count": 72,
      "outputs": [
        {
          "output_type": "execute_result",
          "data": {
            "text/html": [
              "<div>\n",
              "<style scoped>\n",
              "    .dataframe tbody tr th:only-of-type {\n",
              "        vertical-align: middle;\n",
              "    }\n",
              "\n",
              "    .dataframe tbody tr th {\n",
              "        vertical-align: top;\n",
              "    }\n",
              "\n",
              "    .dataframe thead th {\n",
              "        text-align: right;\n",
              "    }\n",
              "</style>\n",
              "<table border=\"1\" class=\"dataframe\">\n",
              "  <thead>\n",
              "    <tr style=\"text-align: right;\">\n",
              "      <th></th>\n",
              "      <th>W</th>\n",
              "      <th>L</th>\n",
              "      <th>A</th>\n",
              "    </tr>\n",
              "  </thead>\n",
              "  <tbody>\n",
              "    <tr>\n",
              "      <th>0</th>\n",
              "      <td>0</td>\n",
              "      <td>0</td>\n",
              "      <td>0</td>\n",
              "    </tr>\n",
              "    <tr>\n",
              "      <th>1</th>\n",
              "      <td>0</td>\n",
              "      <td>0</td>\n",
              "      <td>0</td>\n",
              "    </tr>\n",
              "    <tr>\n",
              "      <th>2</th>\n",
              "      <td>0</td>\n",
              "      <td>0</td>\n",
              "      <td>0</td>\n",
              "    </tr>\n",
              "    <tr>\n",
              "      <th>3</th>\n",
              "      <td>0</td>\n",
              "      <td>0</td>\n",
              "      <td>0</td>\n",
              "    </tr>\n",
              "    <tr>\n",
              "      <th>4</th>\n",
              "      <td>0</td>\n",
              "      <td>0</td>\n",
              "      <td>0</td>\n",
              "    </tr>\n",
              "  </tbody>\n",
              "</table>\n",
              "</div>"
            ],
            "text/plain": [
              "   W  L  A\n",
              "0  0  0  0\n",
              "1  0  0  0\n",
              "2  0  0  0\n",
              "3  0  0  0\n",
              "4  0  0  0"
            ]
          },
          "metadata": {},
          "execution_count": 72
        }
      ]
    },
    {
      "cell_type": "code",
      "metadata": {
        "id": "j4_C2AsMvlQH"
      },
      "source": [
        "#combine the scaled data and labels to make a final dataframe\n",
        "data2 = pd.concat([scaledData1, data2_labels], axis=1)   "
      ],
      "execution_count": 73,
      "outputs": []
    },
    {
      "cell_type": "markdown",
      "metadata": {
        "id": "Sso0GBjC-Wo8"
      },
      "source": [
        "# Balancing the data\n",
        "### Now we balance the data ie we check whether one of the labels is more in number than other. Because if both the labels are not balanced then the model can be biased towards the label with more count."
      ]
    },
    {
      "cell_type": "code",
      "metadata": {
        "colab": {
          "base_uri": "https://localhost:8080/",
          "height": 204
        },
        "id": "-10oVd445Z7S",
        "outputId": "c01fd439-85e1-4894-ebb4-e9e9f569a2bc"
      },
      "source": [
        "data2.head()"
      ],
      "execution_count": 74,
      "outputs": [
        {
          "output_type": "execute_result",
          "data": {
            "text/html": [
              "<div>\n",
              "<style scoped>\n",
              "    .dataframe tbody tr th:only-of-type {\n",
              "        vertical-align: middle;\n",
              "    }\n",
              "\n",
              "    .dataframe tbody tr th {\n",
              "        vertical-align: top;\n",
              "    }\n",
              "\n",
              "    .dataframe thead th {\n",
              "        text-align: right;\n",
              "    }\n",
              "</style>\n",
              "<table border=\"1\" class=\"dataframe\">\n",
              "  <thead>\n",
              "    <tr style=\"text-align: right;\">\n",
              "      <th></th>\n",
              "      <th>W</th>\n",
              "      <th>L</th>\n",
              "      <th>A</th>\n",
              "      <th>Labels</th>\n",
              "    </tr>\n",
              "  </thead>\n",
              "  <tbody>\n",
              "    <tr>\n",
              "      <th>0</th>\n",
              "      <td>0</td>\n",
              "      <td>0</td>\n",
              "      <td>0</td>\n",
              "      <td>2</td>\n",
              "    </tr>\n",
              "    <tr>\n",
              "      <th>1</th>\n",
              "      <td>0</td>\n",
              "      <td>0</td>\n",
              "      <td>0</td>\n",
              "      <td>2</td>\n",
              "    </tr>\n",
              "    <tr>\n",
              "      <th>2</th>\n",
              "      <td>0</td>\n",
              "      <td>0</td>\n",
              "      <td>0</td>\n",
              "      <td>2</td>\n",
              "    </tr>\n",
              "    <tr>\n",
              "      <th>3</th>\n",
              "      <td>0</td>\n",
              "      <td>0</td>\n",
              "      <td>0</td>\n",
              "      <td>2</td>\n",
              "    </tr>\n",
              "    <tr>\n",
              "      <th>4</th>\n",
              "      <td>0</td>\n",
              "      <td>0</td>\n",
              "      <td>0</td>\n",
              "      <td>2</td>\n",
              "    </tr>\n",
              "  </tbody>\n",
              "</table>\n",
              "</div>"
            ],
            "text/plain": [
              "   W  L  A  Labels\n",
              "0  0  0  0       2\n",
              "1  0  0  0       2\n",
              "2  0  0  0       2\n",
              "3  0  0  0       2\n",
              "4  0  0  0       2"
            ]
          },
          "metadata": {},
          "execution_count": 74
        }
      ]
    },
    {
      "cell_type": "code",
      "metadata": {
        "colab": {
          "base_uri": "https://localhost:8080/",
          "height": 0
        },
        "id": "0fVAbxi95a0C",
        "outputId": "a7c2806d-cb28-430e-f1e2-311d5962a991"
      },
      "source": [
        "#checking the counts of each label. \n",
        "#We can see that 1 has less number of data than 2\n",
        "data2[\"Labels\"].value_counts()    "
      ],
      "execution_count": 75,
      "outputs": [
        {
          "output_type": "execute_result",
          "data": {
            "text/plain": [
              "2    102\n",
              "1     86\n",
              "Name: Labels, dtype: int64"
            ]
          },
          "metadata": {},
          "execution_count": 75
        }
      ]
    },
    {
      "cell_type": "code",
      "metadata": {
        "colab": {
          "base_uri": "https://localhost:8080/",
          "height": 419
        },
        "id": "5zJyE1305lAq",
        "outputId": "514fb31f-d251-4b63-94b5-2e5091253fa0"
      },
      "source": [
        "#storing the rows with label \"1\" in one dataframe\n",
        "ones = data2[data2.Labels == 1]    \n",
        "ones"
      ],
      "execution_count": 76,
      "outputs": [
        {
          "output_type": "execute_result",
          "data": {
            "text/html": [
              "<div>\n",
              "<style scoped>\n",
              "    .dataframe tbody tr th:only-of-type {\n",
              "        vertical-align: middle;\n",
              "    }\n",
              "\n",
              "    .dataframe tbody tr th {\n",
              "        vertical-align: top;\n",
              "    }\n",
              "\n",
              "    .dataframe thead th {\n",
              "        text-align: right;\n",
              "    }\n",
              "</style>\n",
              "<table border=\"1\" class=\"dataframe\">\n",
              "  <thead>\n",
              "    <tr style=\"text-align: right;\">\n",
              "      <th></th>\n",
              "      <th>W</th>\n",
              "      <th>L</th>\n",
              "      <th>A</th>\n",
              "      <th>Labels</th>\n",
              "    </tr>\n",
              "  </thead>\n",
              "  <tbody>\n",
              "    <tr>\n",
              "      <th>17</th>\n",
              "      <td>0</td>\n",
              "      <td>0</td>\n",
              "      <td>0</td>\n",
              "      <td>1</td>\n",
              "    </tr>\n",
              "    <tr>\n",
              "      <th>19</th>\n",
              "      <td>0</td>\n",
              "      <td>0</td>\n",
              "      <td>0</td>\n",
              "      <td>1</td>\n",
              "    </tr>\n",
              "    <tr>\n",
              "      <th>21</th>\n",
              "      <td>0</td>\n",
              "      <td>0</td>\n",
              "      <td>0</td>\n",
              "      <td>1</td>\n",
              "    </tr>\n",
              "    <tr>\n",
              "      <th>23</th>\n",
              "      <td>0</td>\n",
              "      <td>0</td>\n",
              "      <td>0</td>\n",
              "      <td>1</td>\n",
              "    </tr>\n",
              "    <tr>\n",
              "      <th>25</th>\n",
              "      <td>0</td>\n",
              "      <td>0</td>\n",
              "      <td>0</td>\n",
              "      <td>1</td>\n",
              "    </tr>\n",
              "    <tr>\n",
              "      <th>...</th>\n",
              "      <td>...</td>\n",
              "      <td>...</td>\n",
              "      <td>...</td>\n",
              "      <td>...</td>\n",
              "    </tr>\n",
              "    <tr>\n",
              "      <th>179</th>\n",
              "      <td>0</td>\n",
              "      <td>0</td>\n",
              "      <td>0</td>\n",
              "      <td>1</td>\n",
              "    </tr>\n",
              "    <tr>\n",
              "      <th>181</th>\n",
              "      <td>0</td>\n",
              "      <td>0</td>\n",
              "      <td>0</td>\n",
              "      <td>1</td>\n",
              "    </tr>\n",
              "    <tr>\n",
              "      <th>183</th>\n",
              "      <td>0</td>\n",
              "      <td>0</td>\n",
              "      <td>0</td>\n",
              "      <td>1</td>\n",
              "    </tr>\n",
              "    <tr>\n",
              "      <th>185</th>\n",
              "      <td>0</td>\n",
              "      <td>0</td>\n",
              "      <td>0</td>\n",
              "      <td>1</td>\n",
              "    </tr>\n",
              "    <tr>\n",
              "      <th>187</th>\n",
              "      <td>0</td>\n",
              "      <td>0</td>\n",
              "      <td>0</td>\n",
              "      <td>1</td>\n",
              "    </tr>\n",
              "  </tbody>\n",
              "</table>\n",
              "<p>86 rows × 4 columns</p>\n",
              "</div>"
            ],
            "text/plain": [
              "     W  L  A  Labels\n",
              "17   0  0  0       1\n",
              "19   0  0  0       1\n",
              "21   0  0  0       1\n",
              "23   0  0  0       1\n",
              "25   0  0  0       1\n",
              "..  .. .. ..     ...\n",
              "179  0  0  0       1\n",
              "181  0  0  0       1\n",
              "183  0  0  0       1\n",
              "185  0  0  0       1\n",
              "187  0  0  0       1\n",
              "\n",
              "[86 rows x 4 columns]"
            ]
          },
          "metadata": {},
          "execution_count": 76
        }
      ]
    },
    {
      "cell_type": "code",
      "metadata": {
        "colab": {
          "base_uri": "https://localhost:8080/",
          "height": 204
        },
        "id": "CnSvi8cA7to4",
        "outputId": "0a83f87a-8be9-4b1d-b86f-669f3d426e28"
      },
      "source": [
        "#storing the rows with label \"2\" in one dataframe\n",
        "twos = data2[data2.Labels == 2]     \n",
        "twos.head()"
      ],
      "execution_count": 77,
      "outputs": [
        {
          "output_type": "execute_result",
          "data": {
            "text/html": [
              "<div>\n",
              "<style scoped>\n",
              "    .dataframe tbody tr th:only-of-type {\n",
              "        vertical-align: middle;\n",
              "    }\n",
              "\n",
              "    .dataframe tbody tr th {\n",
              "        vertical-align: top;\n",
              "    }\n",
              "\n",
              "    .dataframe thead th {\n",
              "        text-align: right;\n",
              "    }\n",
              "</style>\n",
              "<table border=\"1\" class=\"dataframe\">\n",
              "  <thead>\n",
              "    <tr style=\"text-align: right;\">\n",
              "      <th></th>\n",
              "      <th>W</th>\n",
              "      <th>L</th>\n",
              "      <th>A</th>\n",
              "      <th>Labels</th>\n",
              "    </tr>\n",
              "  </thead>\n",
              "  <tbody>\n",
              "    <tr>\n",
              "      <th>0</th>\n",
              "      <td>0</td>\n",
              "      <td>0</td>\n",
              "      <td>0</td>\n",
              "      <td>2</td>\n",
              "    </tr>\n",
              "    <tr>\n",
              "      <th>1</th>\n",
              "      <td>0</td>\n",
              "      <td>0</td>\n",
              "      <td>0</td>\n",
              "      <td>2</td>\n",
              "    </tr>\n",
              "    <tr>\n",
              "      <th>2</th>\n",
              "      <td>0</td>\n",
              "      <td>0</td>\n",
              "      <td>0</td>\n",
              "      <td>2</td>\n",
              "    </tr>\n",
              "    <tr>\n",
              "      <th>3</th>\n",
              "      <td>0</td>\n",
              "      <td>0</td>\n",
              "      <td>0</td>\n",
              "      <td>2</td>\n",
              "    </tr>\n",
              "    <tr>\n",
              "      <th>4</th>\n",
              "      <td>0</td>\n",
              "      <td>0</td>\n",
              "      <td>0</td>\n",
              "      <td>2</td>\n",
              "    </tr>\n",
              "  </tbody>\n",
              "</table>\n",
              "</div>"
            ],
            "text/plain": [
              "   W  L  A  Labels\n",
              "0  0  0  0       2\n",
              "1  0  0  0       2\n",
              "2  0  0  0       2\n",
              "3  0  0  0       2\n",
              "4  0  0  0       2"
            ]
          },
          "metadata": {},
          "execution_count": 77
        }
      ]
    },
    {
      "cell_type": "code",
      "metadata": {
        "id": "O51JiZVx78Qg"
      },
      "source": [
        " #to perform undersampling we just match the counts of \"1\" and \"2\" labels\n",
        "twos = twos.head(86)         "
      ],
      "execution_count": 78,
      "outputs": []
    },
    {
      "cell_type": "code",
      "metadata": {
        "id": "5pccsEmF8aun"
      },
      "source": [
        "test = ones.append(twos)     #we then combine both the dataframe"
      ],
      "execution_count": 79,
      "outputs": []
    },
    {
      "cell_type": "code",
      "metadata": {
        "colab": {
          "base_uri": "https://localhost:8080/",
          "height": 204
        },
        "id": "fXX-8jOf81nu",
        "outputId": "fcd34c88-baf9-497e-99ad-4aa45445de7d"
      },
      "source": [
        "test.head()"
      ],
      "execution_count": 80,
      "outputs": [
        {
          "output_type": "execute_result",
          "data": {
            "text/html": [
              "<div>\n",
              "<style scoped>\n",
              "    .dataframe tbody tr th:only-of-type {\n",
              "        vertical-align: middle;\n",
              "    }\n",
              "\n",
              "    .dataframe tbody tr th {\n",
              "        vertical-align: top;\n",
              "    }\n",
              "\n",
              "    .dataframe thead th {\n",
              "        text-align: right;\n",
              "    }\n",
              "</style>\n",
              "<table border=\"1\" class=\"dataframe\">\n",
              "  <thead>\n",
              "    <tr style=\"text-align: right;\">\n",
              "      <th></th>\n",
              "      <th>W</th>\n",
              "      <th>L</th>\n",
              "      <th>A</th>\n",
              "      <th>Labels</th>\n",
              "    </tr>\n",
              "  </thead>\n",
              "  <tbody>\n",
              "    <tr>\n",
              "      <th>17</th>\n",
              "      <td>0</td>\n",
              "      <td>0</td>\n",
              "      <td>0</td>\n",
              "      <td>1</td>\n",
              "    </tr>\n",
              "    <tr>\n",
              "      <th>19</th>\n",
              "      <td>0</td>\n",
              "      <td>0</td>\n",
              "      <td>0</td>\n",
              "      <td>1</td>\n",
              "    </tr>\n",
              "    <tr>\n",
              "      <th>21</th>\n",
              "      <td>0</td>\n",
              "      <td>0</td>\n",
              "      <td>0</td>\n",
              "      <td>1</td>\n",
              "    </tr>\n",
              "    <tr>\n",
              "      <th>23</th>\n",
              "      <td>0</td>\n",
              "      <td>0</td>\n",
              "      <td>0</td>\n",
              "      <td>1</td>\n",
              "    </tr>\n",
              "    <tr>\n",
              "      <th>25</th>\n",
              "      <td>0</td>\n",
              "      <td>0</td>\n",
              "      <td>0</td>\n",
              "      <td>1</td>\n",
              "    </tr>\n",
              "  </tbody>\n",
              "</table>\n",
              "</div>"
            ],
            "text/plain": [
              "    W  L  A  Labels\n",
              "17  0  0  0       1\n",
              "19  0  0  0       1\n",
              "21  0  0  0       1\n",
              "23  0  0  0       1\n",
              "25  0  0  0       1"
            ]
          },
          "metadata": {},
          "execution_count": 80
        }
      ]
    },
    {
      "cell_type": "code",
      "metadata": {
        "id": "lKsAvBll9BbV"
      },
      "source": [
        "#we randomly change the index values of rows so that the data will be more mixed\n",
        "test = test.sample(frac=1, random_state=10).reset_index(drop=True)      "
      ],
      "execution_count": 81,
      "outputs": []
    },
    {
      "cell_type": "code",
      "metadata": {
        "colab": {
          "base_uri": "https://localhost:8080/",
          "height": 204
        },
        "id": "vct54dm69UpD",
        "outputId": "513e6bb1-7110-438d-d5af-c35dc15b3be4"
      },
      "source": [
        "test.head()"
      ],
      "execution_count": 82,
      "outputs": [
        {
          "output_type": "execute_result",
          "data": {
            "text/html": [
              "<div>\n",
              "<style scoped>\n",
              "    .dataframe tbody tr th:only-of-type {\n",
              "        vertical-align: middle;\n",
              "    }\n",
              "\n",
              "    .dataframe tbody tr th {\n",
              "        vertical-align: top;\n",
              "    }\n",
              "\n",
              "    .dataframe thead th {\n",
              "        text-align: right;\n",
              "    }\n",
              "</style>\n",
              "<table border=\"1\" class=\"dataframe\">\n",
              "  <thead>\n",
              "    <tr style=\"text-align: right;\">\n",
              "      <th></th>\n",
              "      <th>W</th>\n",
              "      <th>L</th>\n",
              "      <th>A</th>\n",
              "      <th>Labels</th>\n",
              "    </tr>\n",
              "  </thead>\n",
              "  <tbody>\n",
              "    <tr>\n",
              "      <th>0</th>\n",
              "      <td>0</td>\n",
              "      <td>0</td>\n",
              "      <td>0</td>\n",
              "      <td>2</td>\n",
              "    </tr>\n",
              "    <tr>\n",
              "      <th>1</th>\n",
              "      <td>0</td>\n",
              "      <td>0</td>\n",
              "      <td>0</td>\n",
              "      <td>1</td>\n",
              "    </tr>\n",
              "    <tr>\n",
              "      <th>2</th>\n",
              "      <td>0</td>\n",
              "      <td>0</td>\n",
              "      <td>0</td>\n",
              "      <td>1</td>\n",
              "    </tr>\n",
              "    <tr>\n",
              "      <th>3</th>\n",
              "      <td>0</td>\n",
              "      <td>0</td>\n",
              "      <td>0</td>\n",
              "      <td>2</td>\n",
              "    </tr>\n",
              "    <tr>\n",
              "      <th>4</th>\n",
              "      <td>0</td>\n",
              "      <td>0</td>\n",
              "      <td>0</td>\n",
              "      <td>1</td>\n",
              "    </tr>\n",
              "  </tbody>\n",
              "</table>\n",
              "</div>"
            ],
            "text/plain": [
              "   W  L  A  Labels\n",
              "0  0  0  0       2\n",
              "1  0  0  0       1\n",
              "2  0  0  0       1\n",
              "3  0  0  0       2\n",
              "4  0  0  0       1"
            ]
          },
          "metadata": {},
          "execution_count": 82
        }
      ]
    },
    {
      "cell_type": "code",
      "metadata": {
        "colab": {
          "base_uri": "https://localhost:8080/",
          "height": 0
        },
        "id": "l-hGIuaK9jQy",
        "outputId": "b6382ba6-a618-4efd-b79b-e1797ea97b3a"
      },
      "source": [
        "#we can see that both labels are now same in count\n",
        "test[\"Labels\"].value_counts()    "
      ],
      "execution_count": 83,
      "outputs": [
        {
          "output_type": "execute_result",
          "data": {
            "text/plain": [
              "2    86\n",
              "1    86\n",
              "Name: Labels, dtype: int64"
            ]
          },
          "metadata": {},
          "execution_count": 83
        }
      ]
    },
    {
      "cell_type": "code",
      "metadata": {
        "id": "EP1sREcz9zPa"
      },
      "source": [
        "data2 = test"
      ],
      "execution_count": 84,
      "outputs": []
    },
    {
      "cell_type": "code",
      "metadata": {
        "colab": {
          "base_uri": "https://localhost:8080/",
          "height": 204
        },
        "id": "ilJA-s6B-QLR",
        "outputId": "ae3aeed6-d272-47da-b5a2-98ca4eaee312"
      },
      "source": [
        "data2.head()"
      ],
      "execution_count": 85,
      "outputs": [
        {
          "output_type": "execute_result",
          "data": {
            "text/html": [
              "<div>\n",
              "<style scoped>\n",
              "    .dataframe tbody tr th:only-of-type {\n",
              "        vertical-align: middle;\n",
              "    }\n",
              "\n",
              "    .dataframe tbody tr th {\n",
              "        vertical-align: top;\n",
              "    }\n",
              "\n",
              "    .dataframe thead th {\n",
              "        text-align: right;\n",
              "    }\n",
              "</style>\n",
              "<table border=\"1\" class=\"dataframe\">\n",
              "  <thead>\n",
              "    <tr style=\"text-align: right;\">\n",
              "      <th></th>\n",
              "      <th>W</th>\n",
              "      <th>L</th>\n",
              "      <th>A</th>\n",
              "      <th>Labels</th>\n",
              "    </tr>\n",
              "  </thead>\n",
              "  <tbody>\n",
              "    <tr>\n",
              "      <th>0</th>\n",
              "      <td>0</td>\n",
              "      <td>0</td>\n",
              "      <td>0</td>\n",
              "      <td>2</td>\n",
              "    </tr>\n",
              "    <tr>\n",
              "      <th>1</th>\n",
              "      <td>0</td>\n",
              "      <td>0</td>\n",
              "      <td>0</td>\n",
              "      <td>1</td>\n",
              "    </tr>\n",
              "    <tr>\n",
              "      <th>2</th>\n",
              "      <td>0</td>\n",
              "      <td>0</td>\n",
              "      <td>0</td>\n",
              "      <td>1</td>\n",
              "    </tr>\n",
              "    <tr>\n",
              "      <th>3</th>\n",
              "      <td>0</td>\n",
              "      <td>0</td>\n",
              "      <td>0</td>\n",
              "      <td>2</td>\n",
              "    </tr>\n",
              "    <tr>\n",
              "      <th>4</th>\n",
              "      <td>0</td>\n",
              "      <td>0</td>\n",
              "      <td>0</td>\n",
              "      <td>1</td>\n",
              "    </tr>\n",
              "  </tbody>\n",
              "</table>\n",
              "</div>"
            ],
            "text/plain": [
              "   W  L  A  Labels\n",
              "0  0  0  0       2\n",
              "1  0  0  0       1\n",
              "2  0  0  0       1\n",
              "3  0  0  0       2\n",
              "4  0  0  0       1"
            ]
          },
          "metadata": {},
          "execution_count": 85
        }
      ]
    },
    {
      "cell_type": "markdown",
      "metadata": {
        "id": "zJ0Yb340-tke"
      },
      "source": [
        "# Spliting the data"
      ]
    },
    {
      "cell_type": "code",
      "metadata": {
        "id": "R8wUq7Pv_qlS"
      },
      "source": [
        "#we now allocate the feature from the second data which WLA to X\n",
        "X = data2.iloc[:,0:3]       \n",
        "y = data2[\"Labels\"]         #we allocate the labels to y"
      ],
      "execution_count": 86,
      "outputs": []
    },
    {
      "cell_type": "code",
      "metadata": {
        "id": "AXxX8hlB-_If"
      },
      "source": [
        "#we now perform train test split which can be used to train and \n",
        "#test the models in the future.\n",
        "X_train, X_test, y_train, y_test = train_test_split(X, y, test_size=0.2, random_state=5, shuffle=True)   "
      ],
      "execution_count": 88,
      "outputs": []
    },
    {
      "cell_type": "code",
      "metadata": {
        "colab": {
          "base_uri": "https://localhost:8080/",
          "height": 204
        },
        "id": "OJHK06VbAPBP",
        "outputId": "06f07a28-82fe-4d89-dc67-92446adf6490"
      },
      "source": [
        "X_train.head()"
      ],
      "execution_count": 89,
      "outputs": [
        {
          "output_type": "execute_result",
          "data": {
            "text/html": [
              "<div>\n",
              "<style scoped>\n",
              "    .dataframe tbody tr th:only-of-type {\n",
              "        vertical-align: middle;\n",
              "    }\n",
              "\n",
              "    .dataframe tbody tr th {\n",
              "        vertical-align: top;\n",
              "    }\n",
              "\n",
              "    .dataframe thead th {\n",
              "        text-align: right;\n",
              "    }\n",
              "</style>\n",
              "<table border=\"1\" class=\"dataframe\">\n",
              "  <thead>\n",
              "    <tr style=\"text-align: right;\">\n",
              "      <th></th>\n",
              "      <th>W</th>\n",
              "      <th>L</th>\n",
              "      <th>A</th>\n",
              "    </tr>\n",
              "  </thead>\n",
              "  <tbody>\n",
              "    <tr>\n",
              "      <th>81</th>\n",
              "      <td>0</td>\n",
              "      <td>0</td>\n",
              "      <td>0</td>\n",
              "    </tr>\n",
              "    <tr>\n",
              "      <th>123</th>\n",
              "      <td>0</td>\n",
              "      <td>0</td>\n",
              "      <td>0</td>\n",
              "    </tr>\n",
              "    <tr>\n",
              "      <th>66</th>\n",
              "      <td>0</td>\n",
              "      <td>0</td>\n",
              "      <td>0</td>\n",
              "    </tr>\n",
              "    <tr>\n",
              "      <th>77</th>\n",
              "      <td>0</td>\n",
              "      <td>0</td>\n",
              "      <td>0</td>\n",
              "    </tr>\n",
              "    <tr>\n",
              "      <th>54</th>\n",
              "      <td>0</td>\n",
              "      <td>0</td>\n",
              "      <td>0</td>\n",
              "    </tr>\n",
              "  </tbody>\n",
              "</table>\n",
              "</div>"
            ],
            "text/plain": [
              "     W  L  A\n",
              "81   0  0  0\n",
              "123  0  0  0\n",
              "66   0  0  0\n",
              "77   0  0  0\n",
              "54   0  0  0"
            ]
          },
          "metadata": {},
          "execution_count": 89
        }
      ]
    },
    {
      "cell_type": "code",
      "metadata": {
        "colab": {
          "base_uri": "https://localhost:8080/",
          "height": 0
        },
        "id": "gnBgbKB4AQqd",
        "outputId": "701333c7-8160-451d-d200-2e54c1cc43a7"
      },
      "source": [
        "X_train.shape, X_test.shape, y_train.shape, y_test.shape"
      ],
      "execution_count": 90,
      "outputs": [
        {
          "output_type": "execute_result",
          "data": {
            "text/plain": [
              "((137, 3), (35, 3), (137,), (35,))"
            ]
          },
          "metadata": {},
          "execution_count": 90
        }
      ]
    }
  ]
}